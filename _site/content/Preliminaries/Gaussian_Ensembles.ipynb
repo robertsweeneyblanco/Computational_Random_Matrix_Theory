{
 "cells": [
  {
   "cell_type": "code",
   "execution_count": 1,
   "metadata": {
    "tags": [
     "hide_input"
    ]
   },
   "outputs": [],
   "source": [
    "import numpy as np\n",
    "\n",
    "import sys\n",
    "sys.path.append('../')\n",
    "import RandomMatrix as RM\n",
    "\n",
    "np.random.seed(140)"
   ]
  },
  {
   "cell_type": "markdown",
   "metadata": {},
   "source": [
    "# Gaussian Orthogonal Ensembles"
   ]
  },
  {
   "cell_type": "markdown",
   "metadata": {},
   "source": [
    "The first class of Random Matrix that we will study are Gaussian Orthogonal Ensembles. "
   ]
  },
  {
   "cell_type": "markdown",
   "metadata": {},
   "source": [
    "## Defining GOEs"
   ]
  },
  {
   "cell_type": "markdown",
   "metadata": {},
   "source": [
    "<hr>"
   ]
  },
  {
   "cell_type": "markdown",
   "metadata": {},
   "source": [
    "**Definition**: A matrix $G$ is called a Gaussian Orthogonal Ensemble (GOE) if there exists a random matrix $A$ with iid entires such that \n",
    "\n",
    "$$A_{ij} \\sim N(0,1)$$\n",
    "\n",
    "such that \n",
    "\n",
    "$$G = \\frac{A + A^T}{2} $$"
   ]
  },
  {
   "cell_type": "markdown",
   "metadata": {},
   "source": [
    "<hr>"
   ]
  },
  {
   "cell_type": "markdown",
   "metadata": {},
   "source": [
    "## GOE Distribution"
   ]
  },
  {
   "cell_type": "markdown",
   "metadata": {},
   "source": [
    "If $G$ is a GOE, $G_{ij} \\sim N(0, \\frac{1}{2})$ for $i \\neq j$ and standard normals along the main diagonal.\n",
    "\n",
    "*Proof*: \n",
    "\n",
    "Since $G_{ij}$ is the linear combination of two independent normal random variables, it is also normally distributed. If $i \\neq j$, then\n",
    "\n",
    "$$\\mathbb{E}[G_{ij}] = \\mathbb{E}[\\frac{A_{ij} + A^T_{ij}}{2}] = \\frac{\\mathbb{E}[A_{ij}] + \\mathbb{E}[A_{ji}]}{2} = 0$$\n",
    "\n",
    "&nbsp;\n",
    "\n",
    "$$Var(G_{ij}) = Var(\\frac{A_{ij} + A^T_{ij}}{2}) = \\frac{Var(A_{ij}) + Var(A_{ji})}{4} = \\frac{1}{2} $$\n",
    "\n",
    "So $G_{ij} \\sim N(0, \\frac{1}{2})$ for $i \\neq j$.\n",
    "\n",
    "For the diagonal terms, \n",
    "\n",
    "$$G_{ii} = \\frac{A_{ii} + A^T_{ii}}{2} = A_{ii}$$ \n",
    "\n",
    "Thus $G$ has standard normals along its diagonals."
   ]
  },
  {
   "cell_type": "markdown",
   "metadata": {},
   "source": [
    "## Generating GOEs"
   ]
  },
  {
   "cell_type": "markdown",
   "metadata": {},
   "source": [
    "We can generate GOEs using RandomMatrix's function `Generate_GOE`"
   ]
  },
  {
   "cell_type": "code",
   "execution_count": 2,
   "metadata": {
    "scrolled": true
   },
   "outputs": [
    {
     "data": {
      "text/plain": [
       "array([[-0.46716782,  0.24073782],\n",
       "       [ 0.24073782, -0.82809842]])"
      ]
     },
     "execution_count": 2,
     "metadata": {},
     "output_type": "execute_result"
    }
   ],
   "source": [
    "RM.Generate_GOE(2)"
   ]
  },
  {
   "cell_type": "markdown",
   "metadata": {},
   "source": [
    "# Gaussian Unitary Ensembles"
   ]
  },
  {
   "cell_type": "markdown",
   "metadata": {},
   "source": [
    "The second class of Random Matrix that we will study are Gaussian Unitary Ensembles. They are very similar to GOEs, except they operate over the field of complex numbers $\\mathbb{C}$. In this chapter, since we are dealing with complex numbers, we index into a matrix using $n$ and $m$ instead of $i$ and $j$ to avoid confusion."
   ]
  },
  {
   "cell_type": "markdown",
   "metadata": {},
   "source": [
    "## Defining of GUEs"
   ]
  },
  {
   "cell_type": "markdown",
   "metadata": {},
   "source": [
    "<hr>"
   ]
  },
  {
   "cell_type": "markdown",
   "metadata": {},
   "source": [
    "**Definition**: A matrix $G$ is called a Gaussian Unitary Ensemble (GUE) if there exists a random matrix $A$ with iid entires such that \n",
    "\n",
    "$$A_{nm} = X_{nm} + i Y_{nm}$$"
   ]
  },
  {
   "cell_type": "markdown",
   "metadata": {},
   "source": [
    "where $X_{nm} \\sim N(0, 1)$ and $Y_{nm} \\sim N(0, 1)$ so that\n",
    "\n",
    "$$G = \\frac{A + A^*}{2} $$\n",
    "\n",
    "Where * signifies the Hermetian adjoint."
   ]
  },
  {
   "cell_type": "markdown",
   "metadata": {},
   "source": [
    "<hr>"
   ]
  },
  {
   "cell_type": "markdown",
   "metadata": {},
   "source": [
    "## GUE Distribution"
   ]
  },
  {
   "cell_type": "markdown",
   "metadata": {},
   "source": [
    "If $G$ is a GUE, then $G_{nm} \\sim N(0,1_{\\mathbb{C}})$ (complex standard normal random variable) for off diagonal terms ($n \\neq m$) and $G_{nn} \\sim N(0,1)$ for the diagonal terms.\n",
    "\n",
    "*Proof*: \n",
    "\n",
    "Note that \n",
    "\n",
    "$$\n",
    "\\begin{align}\n",
    "\\begin{aligned}\n",
    "    G_{n,m} &= \\frac{A_{nm} + A^*_{nm}}{2} \\\\\n",
    "    &= \\frac{X_{nm} + i Y_{nm} + X_{mn} - iY_{mn}}{2} \\\\\n",
    "    &= \\frac{X_{nm} + X_{mn} + i(Y_{nm} - Y_{mn})}{2}\n",
    "\\end{aligned}\n",
    "\\end{align}\n",
    "$$\n",
    "\n",
    "Lets start with the easy case, the diagonals\n",
    "\n",
    "$$G_{nn} = \\frac{X_{nn} + X_{nn} + i(Y_{nn} - Y_{nn})}{2} = X_{nn} \\sim N(0, 1)$$\n",
    "\n",
    "For the off diagonal case, $G_{nm}$ ($n \\neq m$) is a complex normal random variable since it is the linear comination of independent complex normal random variables.\n",
    "\n",
    "$$\n",
    "\\begin{align}\n",
    "\\begin{aligned}\n",
    "    \\mathbb{E}[G_{nm}] &= \\mathbb{E}[\\frac{X_{nm} + X_{mn} + i(Y_{nm} - Y_{mn})}{2}] \\\\\n",
    "    &= \\frac{\\mathbb{E}[X_{nm}] + \\mathbb{E}[X_{mn}] + i(\\mathbb{E}[Y_{nm}] - \\mathbb{E}[Y_{mn}])}{2} \\\\\n",
    "    &= 0\n",
    "\\end{aligned}\n",
    "\\end{align}\n",
    "$$\n",
    "\n",
    "Since the expectation is 0, the variance is simply,\n",
    "\n",
    "$$\n",
    "\\begin{align}\n",
    "\\begin{aligned}\n",
    "    Var(G_{nm}) &= \\mathbb{E}[|\\frac{X_{nm} + X_{mn} + i(Y_{nm} - Y_{mn})}{2}|^2] \\\\\n",
    "    &= \\frac{1}{4} \\mathbb{E}[(X_{nm} + X_{mn})^2 + (Y_{nm}-Y_{mn})^2] \n",
    "\\end{aligned}\n",
    "\\end{align}\n",
    "$$\n",
    "\n",
    "Note $X_{nm} + X_{mn} \\sim N(0,2)$ and $Y_{nm}-Y_{mn} \\sim N(0,2)$, so\n",
    "\n",
    "$$Var(G_{nm}) = \\frac{1}{4} (Var(X_{nm} + X_{mn}) + Var(Y_{nm}-Y_{mn})) = 1$$\n",
    "\n",
    "Thus $G_{nm} \\sim N(0,1_{\\mathbb{C}})$\n"
   ]
  },
  {
   "cell_type": "markdown",
   "metadata": {},
   "source": [
    "## Generating GUEs"
   ]
  },
  {
   "cell_type": "markdown",
   "metadata": {},
   "source": [
    "We can generate GUEs using RandomMatrix's function `Generate_GUE`"
   ]
  },
  {
   "cell_type": "code",
   "execution_count": 3,
   "metadata": {},
   "outputs": [
    {
     "data": {
      "text/plain": [
       "array([[-0.03192753+0.j        ,  0.23804888-0.21683853j],\n",
       "       [ 0.23804888+0.21683853j, -0.29720092+0.j        ]])"
      ]
     },
     "execution_count": 3,
     "metadata": {},
     "output_type": "execute_result"
    }
   ],
   "source": [
    "RM.Generate_GUE(2)"
   ]
  },
  {
   "cell_type": "markdown",
   "metadata": {},
   "source": [
    "Note that Python uses to letter $j$ instead of $i$ for complex numbers."
   ]
  },
  {
   "cell_type": "markdown",
   "metadata": {},
   "source": [
    "# Dyson Index"
   ]
  },
  {
   "cell_type": "markdown",
   "metadata": {},
   "source": [
    "One might note that GUEs are a generalization of GOEs to the Complex numbers. Indeed this generalization can continue into larger supersets of numbers such as quaternions, whose gaussian ensemble is known as the Gaussian Symplectic Ensemble (GSE). To differentiate between these ensembles we often use the Dyson index, denoted by $\\beta$, which corresponds to the dimension over the reals of the numbers being used. So for GOEs $\\beta=1$, for GUEs $\\beta=2$, for GSE $\\beta=4$, etc. This class of Gaussian ensembles are known as Hermite."
   ]
  },
  {
   "cell_type": "markdown",
   "metadata": {},
   "source": [
    "# Ginibre Ensemble"
   ]
  },
  {
   "cell_type": "markdown",
   "metadata": {},
   "source": [
    "A popular gaussian ensemble in modern work in Random Matrix Theory is the Ginibre ensemble. In particular, they are used for perturbation techniques, which will be covered in later chapters."
   ]
  },
  {
   "cell_type": "markdown",
   "metadata": {},
   "source": [
    "## Defining Ginibre Matrices"
   ]
  },
  {
   "cell_type": "markdown",
   "metadata": {},
   "source": [
    "<hr>"
   ]
  },
  {
   "cell_type": "markdown",
   "metadata": {},
   "source": [
    "**Definition**: A Ginibre matrix is an n × n random matrix with i.i.d complex Gaussian entries $G_{ij} \\sim N(0,1_C/n)$."
   ]
  },
  {
   "cell_type": "markdown",
   "metadata": {},
   "source": [
    "<hr>"
   ]
  },
  {
   "cell_type": "markdown",
   "metadata": {},
   "source": [
    "## Generating Ginibre Matrices"
   ]
  },
  {
   "cell_type": "markdown",
   "metadata": {},
   "source": [
    "We can generate Ginibre matrices using RandomMatrix's function `Generate_Ginibre`"
   ]
  },
  {
   "cell_type": "code",
   "execution_count": 4,
   "metadata": {},
   "outputs": [
    {
     "data": {
      "text/plain": [
       "array([[-0.13257661-0.34020346j,  0.12836047-0.25168349j],\n",
       "       [ 0.4698772 -0.85284598j,  0.01029282-0.39138839j]])"
      ]
     },
     "execution_count": 4,
     "metadata": {},
     "output_type": "execute_result"
    }
   ],
   "source": [
    "RM.Generate_Ginibre(2)"
   ]
  }
 ],
 "metadata": {
  "kernelspec": {
   "display_name": "Python 3",
   "language": "python",
   "name": "python3"
  },
  "language_info": {
   "codemirror_mode": {
    "name": "ipython",
    "version": 3
   },
   "file_extension": ".py",
   "mimetype": "text/x-python",
   "name": "python",
   "nbconvert_exporter": "python",
   "pygments_lexer": "ipython3",
   "version": "3.8.1"
  }
 },
 "nbformat": 4,
 "nbformat_minor": 2
}
