{
 "cells": [
  {
   "cell_type": "code",
   "execution_count": 1,
   "metadata": {
    "tags": [
     "hide_input"
    ]
   },
   "outputs": [],
   "source": [
    "from sympy import *\n",
    "import numpy as np\n",
    "import matplotlib.pyplot as plt\n",
    "import seaborn as sns\n",
    "\n",
    "import sys\n",
    "sys.path.append('../../')\n",
    "import RandomMatrix as RM\n",
    "\n",
    "%matplotlib inline\n",
    "sns.set()\n",
    "\n",
    "np.random.seed(140)"
   ]
  },
  {
   "cell_type": "markdown",
   "metadata": {},
   "source": [
    "# Density for Tracy Widom distribution"
   ]
  },
  {
   "cell_type": "markdown",
   "metadata": {},
   "source": [
    "The Tracy-Widom distribution was defined by Craig A. Tracy and Harold Widom in their paper *On Orthogonal and Symplectic Matrix Ensembles*. It is an important distribution for studying the distribution of the maximum eigenvalue of a Hermite Gaussian Ensemble. The distribution for the Gaussian ensemble with Dyson index $\\beta$ is defined by its CDF given below \n",
    "\n",
    "$$ F_{\\beta}(s) = \\lim_{N \\rightarrow \\infty} F_{N, \\beta} \\left(2 \\sigma \\sqrt{N} + \\frac{\\sigma s}{N^{1/6}} \\right)$$\n",
    "\n",
    "We can take the derivative to find the density of the distribution\n",
    "\n",
    "$$\n",
    "\\begin{align}\n",
    "\\begin{aligned}\n",
    "f_{\\beta} &= f_{N,B} \\left(2 \\sigma \\sqrt{N} + \\frac{\\sigma s}{N^{1/6}} \\right) \\frac{\\sigma}{N^{1/6}} \\\\\\\\\n",
    "&= f_{N,B} \\left(\\frac{s+2\\sqrt{N}N^{1/6}}{\\frac{N^{1/6}}{\\sigma}} \\right) \\frac{1}{\\frac{N^{1/6}}{\\sigma}}\n",
    "\\end{aligned}\n",
    "\\end{align}\n",
    "$$\n",
    "\n",
    "\n",
    "Recall the formula for the density of linear transformations $f_{aX+b}(s) = f_{X}(\\frac{s-b}{a}) \\frac{1}{|a|}$. This implies that if $\\lambda_{\\max}$ is the greatest eigenvalue for GOE, GUE, or GSE and $\\sigma$ is the standard deviation of it's off diagonals, then \n",
    "\n",
    "$$\\frac{N^{1/6}}{\\sigma} \\lambda_{\\max} - 2 \\sqrt{N} N^{1/6} \\sim \\text{Tracy Widom}$$\n",
    "\n",
    "\n"
   ]
  },
  {
   "cell_type": "markdown",
   "metadata": {},
   "source": [
    "# Simulation"
   ]
  },
  {
   "cell_type": "markdown",
   "metadata": {},
   "source": [
    "## GOE"
   ]
  },
  {
   "cell_type": "markdown",
   "metadata": {},
   "source": [
    "Recall from the first chapter the off diagonal terms in a GOE have standard deviation $\\frac{1}{\\sqrt{2}}$"
   ]
  },
  {
   "cell_type": "code",
   "execution_count": 2,
   "metadata": {},
   "outputs": [],
   "source": [
    "trials = 10000\n",
    "GOE_samples = []\n",
    "N = 100\n",
    "for _ in range(trials):\n",
    "    A = RM.Generate_GOE(N)\n",
    "    λs, V = np.linalg.eigh(A)\n",
    "    λ_max = max(λs)\n",
    "    GOE_samples.append((np.sqrt(2)*λ_max - 2*np.sqrt(N)) * N**(1/6))"
   ]
  },
  {
   "cell_type": "code",
   "execution_count": 3,
   "metadata": {
    "tags": [
     "hide_input"
    ]
   },
   "outputs": [
    {
     "data": {
      "image/png": "[encoded data removed]",
      "text/plain": [
       "<Figure size 432x288 with 1 Axes>"
      ]
     },
     "metadata": {},
     "output_type": "display_data"
    }
   ],
   "source": [
    "plt.ylabel(\"Density\")\n",
    "plt.xlabel(\"Samples\")\n",
    "plt.title(\"Tracy-Widom GOE\")\n",
    "plt.hist(GOE_samples, bins=50, density=True);"
   ]
  },
  {
   "cell_type": "markdown",
   "metadata": {},
   "source": [
    "## GUE"
   ]
  },
  {
   "cell_type": "markdown",
   "metadata": {},
   "source": [
    "Recall from the first chapter that the off diagonal terms of a GUE have standard deviation 1."
   ]
  },
  {
   "cell_type": "code",
   "execution_count": 4,
   "metadata": {},
   "outputs": [],
   "source": [
    "trials = 10000\n",
    "GUE_samples  = []\n",
    "N = 100\n",
    "for _ in range(trials):\n",
    "    A = RM.Generate_GUE(N)\n",
    "    λs, V = np.linalg.eigh(A)\n",
    "    λ_max = max(λs)\n",
    "    GUE_samples.append((λ_max - 2 * np.sqrt(N)) * N**(1/6))"
   ]
  },
  {
   "cell_type": "code",
   "execution_count": 5,
   "metadata": {
    "tags": [
     "hide_input"
    ]
   },
   "outputs": [
    {
     "data": {
      "image/png": "[encoded data removed]",
      "text/plain": [
       "<Figure size 432x288 with 1 Axes>"
      ]
     },
     "metadata": {},
     "output_type": "display_data"
    }
   ],
   "source": [
    "plt.ylabel(\"Density\")\n",
    "plt.xlabel(\"Samples\")\n",
    "plt.title(\"Tracy-Widom GUE\")\n",
    "plt.hist(GUE_samples, bins=50, density=True);"
   ]
  }
 ],
 "metadata": {
  "kernelspec": {
   "display_name": "Python 3",
   "language": "python",
   "name": "python3"
  },
  "language_info": {
   "codemirror_mode": {
    "name": "ipython",
    "version": 3
   },
   "file_extension": ".py",
   "mimetype": "text/x-python",
   "name": "python",
   "nbconvert_exporter": "python",
   "pygments_lexer": "ipython3",
   "version": "3.8.1"
  }
 },
 "nbformat": 4,
 "nbformat_minor": 2
}
