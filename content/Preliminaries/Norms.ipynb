{
 "cells": [
  {
   "cell_type": "code",
   "execution_count": 1,
   "metadata": {
    "tags": [
     "hide_input"
    ]
   },
   "outputs": [],
   "source": [
    "import numpy as np\n",
    "np.random.seed(140)"
   ]
  },
  {
   "cell_type": "markdown",
   "metadata": {},
   "source": [
    "The expository will assume familiarity with Linear Algebra, especially topics such as eigenvectors, eigenvalues, and singular values. This section will summarize vector and matrix norm and will establish the notation used throughout the rest of the text. It will also demonstrate a couple results that will be used later in the text."
   ]
  },
  {
   "cell_type": "markdown",
   "metadata": {},
   "source": [
    "# Vector Norms"
   ]
  },
  {
   "cell_type": "markdown",
   "metadata": {},
   "source": [
    "A vector norm $\\rho$ on some vector space $V$ over the field $\\mathbb{R}$ or $\\mathbb{C}$ is a mapping from $V$ to $\\mathbb{R}$ such that the following properties hold for all $u,v \\in V$ and $a \\in F$\n",
    "\n",
    "1. $\\rho(u+v) \\leq \\rho(u) + \\rho(v)$ (Triangle Inequality) \n",
    "2. $\\rho(av) = |a| \\rho(v)$ (Absolutely Homogeneous ) \n",
    "3. $\\rho(v) = 0 \\Rightarrow v = 0$\n"
   ]
  },
  {
   "cell_type": "markdown",
   "metadata": {},
   "source": [
    "## p-norms"
   ]
  },
  {
   "cell_type": "markdown",
   "metadata": {},
   "source": [
    "The most common types of vector norms are known as \"p-norms\", which are norms that take the following form\n",
    "\n",
    "$$|| x ||_p = \\left(\\sum_{i} |x_i|^p \\right)^{1/p} $$\n",
    "\n",
    "where $p$ is any real number greater than or equal to one. We can compute p-norms using Numpy with the function `np.linalg.norm`. We will demonstrate computing the different norms on the following vector $v$"
   ]
  },
  {
   "cell_type": "code",
   "execution_count": 2,
   "metadata": {},
   "outputs": [
    {
     "data": {
      "text/plain": [
       "array([-0.46716782,  0.29599552])"
      ]
     },
     "execution_count": 2,
     "metadata": {},
     "output_type": "execute_result"
    }
   ],
   "source": [
    "v = np.random.normal(size=2)\n",
    "v"
   ]
  },
  {
   "cell_type": "markdown",
   "metadata": {},
   "source": [
    "### 1-norm"
   ]
  },
  {
   "cell_type": "markdown",
   "metadata": {},
   "source": [
    "The 1-norm is often called the manhattan distance or the taxicab norm. This norm calculates the distance from a vector to the origin by only traveling along the main axes in a coordinate system.\n",
    "\n",
    "$$|| x ||_1 = \\sum_{i} |x_i| $$"
   ]
  },
  {
   "cell_type": "code",
   "execution_count": 3,
   "metadata": {},
   "outputs": [
    {
     "data": {
      "text/plain": [
       "0.7631633402193927"
      ]
     },
     "execution_count": 3,
     "metadata": {},
     "output_type": "execute_result"
    }
   ],
   "source": [
    "np.linalg.norm(v, 1)"
   ]
  },
  {
   "cell_type": "markdown",
   "metadata": {},
   "source": [
    "### 2-norm"
   ]
  },
  {
   "cell_type": "markdown",
   "metadata": {},
   "source": [
    "The 2-norm mesasures the Euclidean distance from a point to the origin. \n",
    "\n",
    "$$|| x ||_2 = \\sqrt{\\sum_{i} |x_i|^2} = \\sqrt{x^* x} $$"
   ]
  },
  {
   "cell_type": "markdown",
   "metadata": {},
   "source": [
    "This is the most common norm and it is often convention to omit the $2$ in the subscript. Note that the distribution of the 2-norm for a vector of two independent standard normal random variables has the Rayleigh distribution. Also, the distribution of $||v||^2$ where $v$ is a vector of $n$ iid standard normals is Chi-squared(n)."
   ]
  },
  {
   "cell_type": "code",
   "execution_count": 4,
   "metadata": {},
   "outputs": [
    {
     "data": {
      "text/plain": [
       "0.5530453150208221"
      ]
     },
     "execution_count": 4,
     "metadata": {},
     "output_type": "execute_result"
    }
   ],
   "source": [
    "np.linalg.norm(v, 2)"
   ]
  },
  {
   "cell_type": "markdown",
   "metadata": {},
   "source": [
    "<hr>"
   ]
  },
  {
   "cell_type": "markdown",
   "metadata": {},
   "source": [
    "**Theorem**: Unitary transformations are isometries with respect to the 2-norm. That is, Unitary matrices do not change the 2-norm of a vector. \n",
    "\n",
    "\n",
    "*Proof*: Suppose $U$ is a unitary matrix. Then $||Ux|| = \\sqrt{(Ux)^* (Ux)} = \\sqrt{x^* U^* U x} = \\sqrt{x^* x} = ||x||$"
   ]
  },
  {
   "cell_type": "markdown",
   "metadata": {},
   "source": [
    "<hr>"
   ]
  },
  {
   "cell_type": "markdown",
   "metadata": {},
   "source": [
    "### $\\infty$-norm"
   ]
  },
  {
   "cell_type": "markdown",
   "metadata": {},
   "source": [
    "It is a well known result that the p-norm of a vector approaches the maximum absolute value as $p \\longrightarrow \\infty$. It turns out that the maximum absolute value of a vector satisfies all three properties of a norm. Thus the $\\infty-norm$, also called the maximum norm, can be defined as \n",
    "\n",
    "$$|| x ||_{\\infty} = \\max_i(|x_i|) $$"
   ]
  },
  {
   "cell_type": "code",
   "execution_count": 5,
   "metadata": {},
   "outputs": [
    {
     "data": {
      "text/plain": [
       "0.46716782126474604"
      ]
     },
     "execution_count": 5,
     "metadata": {},
     "output_type": "execute_result"
    }
   ],
   "source": [
    "np.linalg.norm(v, np.inf)"
   ]
  },
  {
   "cell_type": "markdown",
   "metadata": {},
   "source": [
    "Note this is equivalent to using Python's `max` function on the absolute values."
   ]
  },
  {
   "cell_type": "code",
   "execution_count": 6,
   "metadata": {},
   "outputs": [
    {
     "data": {
      "text/plain": [
       "0.46716782126474604"
      ]
     },
     "execution_count": 6,
     "metadata": {},
     "output_type": "execute_result"
    }
   ],
   "source": [
    "max(np.abs(v))"
   ]
  },
  {
   "cell_type": "markdown",
   "metadata": {},
   "source": [
    "# Matrix Norms"
   ]
  },
  {
   "cell_type": "markdown",
   "metadata": {},
   "source": [
    "Likewise, we can define norms for matrices as long as they satisfy the following condition for $M, N \\in F^{m \\times n}$ and $a \\in F$ where $F$ is $\\mathbb{R}$ or $\\mathbb{C}$\n",
    "\n",
    "1. $\\rho(M+N) \\leq \\rho(M) + \\rho(N)$ (Triangle Inequality)\n",
    "2. $\\rho(aM) = |a| \\rho(M)$ (Absolutely Homogeneous)\n",
    "3. $\\rho(M) \\geq 0$\n",
    "4. $\\rho(M) = 0 \\Rightarrow M = 0$"
   ]
  },
  {
   "cell_type": "markdown",
   "metadata": {},
   "source": [
    "## Matrix p-norm"
   ]
  },
  {
   "cell_type": "markdown",
   "metadata": {},
   "source": [
    "Similar to vector norms, we have a family of norms known as \"p-norms\" for matricies. Suppose $A \\in F^{m \\times n}$ matrix and $p \\geq 1$\n",
    "\n",
    "$$ || A ||_p = \\sup_{x \\in F^n \\\\ x \\neq 0} \\frac{||Ax||_p}{||x||_p} = \\sup_{x \\in F^n \\\\||x||_p = 1} ||Ax||_p$$\n",
    "\n"
   ]
  },
  {
   "cell_type": "markdown",
   "metadata": {},
   "source": [
    "The `np.linalg.norm` function can also be applied to matricies to find the matrix norm."
   ]
  },
  {
   "cell_type": "code",
   "execution_count": 7,
   "metadata": {},
   "outputs": [
    {
     "data": {
      "text/plain": [
       "array([[ 0.18548011, -0.82809842],\n",
       "       [-0.03192753,  1.00155352]])"
      ]
     },
     "execution_count": 7,
     "metadata": {},
     "output_type": "execute_result"
    }
   ],
   "source": [
    "A = np.random.normal(size=(2,2))\n",
    "A"
   ]
  },
  {
   "cell_type": "markdown",
   "metadata": {},
   "source": [
    "## Operator norm"
   ]
  },
  {
   "cell_type": "markdown",
   "metadata": {},
   "source": [
    "When $p=2$, this norm is known as the Operator norm. We will denote the operator norm of a matrix $A$ as $||A||$."
   ]
  },
  {
   "cell_type": "code",
   "execution_count": 8,
   "metadata": {},
   "outputs": [
    {
     "data": {
      "text/plain": [
       "1.307451049240857"
      ]
     },
     "execution_count": 8,
     "metadata": {},
     "output_type": "execute_result"
    }
   ],
   "source": [
    "np.linalg.norm(A,2) "
   ]
  },
  {
   "cell_type": "markdown",
   "metadata": {},
   "source": [
    "<hr>"
   ]
  },
  {
   "cell_type": "markdown",
   "metadata": {},
   "source": [
    "**Theorem:**  The operator norm of a diagonal matrix is equal to its maximum element\n",
    "\n",
    "*Proof:* Suppose $D$ is a diagonal matrix with $(D)_{ii} = d_i$. Suppose the greatest element is $d_m$, then \n",
    "\n",
    "$$\n",
    "\\begin{align}\n",
    "\\begin{aligned}\n",
    "||D|| &= \\sup_{||x||_p = 1} ||Dx|| \\\\\n",
    "&=  \\sup_{||x|| = 1} \\sqrt{\\sum_i (d_i x_i)^2} \\\\\n",
    "&\\leq \\sup_{||x|| = 1} \\sqrt{\\sum_i (d_m x_i)^2} \\\\\n",
    "&=  |d_m| \\sup_{||x|| = 1} \\sqrt{\\sum_i (x_i)^2}\\\\ \n",
    "&=  |d_m|\n",
    "\\end{aligned}\n",
    "\\end{align}\n",
    "$$\n",
    "\n",
    "Now define $e_m$ to be a vector of all zeros except a one in the $m$th component\n",
    "\n",
    "$$||D||=\\sup_{||x||_p = 1} ||Dx|| \\geq ||De_m|| = |d_m|$$\n",
    "\n",
    "Thus the two inequalities imply $||D|| = |d_m|$"
   ]
  },
  {
   "cell_type": "markdown",
   "metadata": {},
   "source": [
    "<hr>"
   ]
  },
  {
   "cell_type": "markdown",
   "metadata": {},
   "source": [
    "## Frobenius norm"
   ]
  },
  {
   "cell_type": "markdown",
   "metadata": {},
   "source": [
    "Suppose $A$ is a matrix and $A^*$ is it's hermetian adjoint. \n",
    "\n",
    "$$||A||_F = \\sqrt{\\text{Trace}(A^*A)} $$\n",
    "\n",
    "This norm is well known and can be computed with Numpy."
   ]
  },
  {
   "cell_type": "code",
   "execution_count": 9,
   "metadata": {},
   "outputs": [
    {
     "data": {
      "text/plain": [
       "1.3131179271021802"
      ]
     },
     "execution_count": 9,
     "metadata": {},
     "output_type": "execute_result"
    }
   ],
   "source": [
    "np.linalg.norm(A, 'fro')"
   ]
  }
 ],
 "metadata": {
  "kernelspec": {
   "display_name": "Python 3",
   "language": "python",
   "name": "python3"
  },
  "language_info": {
   "codemirror_mode": {
    "name": "ipython",
    "version": 3
   },
   "file_extension": ".py",
   "mimetype": "text/x-python",
   "name": "python",
   "nbconvert_exporter": "python",
   "pygments_lexer": "ipython3",
   "version": "3.8.1"
  }
 },
 "nbformat": 4,
 "nbformat_minor": 2
}
