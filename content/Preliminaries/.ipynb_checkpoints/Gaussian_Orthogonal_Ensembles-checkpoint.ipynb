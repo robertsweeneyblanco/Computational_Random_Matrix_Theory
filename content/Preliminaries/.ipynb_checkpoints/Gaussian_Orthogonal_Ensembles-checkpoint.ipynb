{
 "cells": [
  {
   "cell_type": "code",
   "execution_count": 1,
   "metadata": {},
   "outputs": [],
   "source": [
    "import numpy as np\n",
    "np.random.seed(140)"
   ]
  },
  {
   "cell_type": "markdown",
   "metadata": {},
   "source": [
    "# Gaussian Orthogonal Ensembles"
   ]
  },
  {
   "cell_type": "markdown",
   "metadata": {},
   "source": [
    "The first class of Random Matrix that we will study are Gaussian Orthogonal Ensembles. "
   ]
  },
  {
   "cell_type": "markdown",
   "metadata": {},
   "source": [
    "## Defining GOEs"
   ]
  },
  {
   "cell_type": "markdown",
   "metadata": {},
   "source": [
    "<hr>"
   ]
  },
  {
   "cell_type": "markdown",
   "metadata": {},
   "source": [
    "**Definition**: A matrix $G$ is called a Gaussian Orthogonal Ensemble (GOE) if there exists a random matrix $A$ with iid entires such that "
   ]
  },
  {
   "cell_type": "markdown",
   "metadata": {},
   "source": [
    "$$A_{ij} \\sim N(0,1)$$"
   ]
  },
  {
   "cell_type": "markdown",
   "metadata": {},
   "source": [
    "such that "
   ]
  },
  {
   "cell_type": "markdown",
   "metadata": {},
   "source": [
    "$$G = \\frac{A + A^T}{2} $$"
   ]
  },
  {
   "cell_type": "markdown",
   "metadata": {},
   "source": [
    "<hr>"
   ]
  },
  {
   "cell_type": "markdown",
   "metadata": {},
   "source": [
    "## Distribution"
   ]
  },
  {
   "cell_type": "markdown",
   "metadata": {},
   "source": [
    "Since $G_{ij}$ is the linear combination of two independent normal random variables, it is also normally distributed. If $i \\neq j$, then\n",
    "\n",
    "$$\\mathbb{E}[G_{ij}] = \\mathbb{E}[\\frac{A_{ij} + A^T_{ij}}{2}] = \\frac{\\mathbb{E}[A_{ij}] + \\mathbb{E}[A_{ji}]}{2} = 0$$\n",
    "\n",
    "&nbsp;\n",
    "\n",
    "$$Var(G_{ij}) = Var(\\frac{A_{ij} + A^T_{ij}}{2}) = \\frac{Var(A_{ij}) + Var(A_{ji})}{4} = \\frac{1}{2} $$\n",
    "\n",
    "So $G_{ij} \\sim N(0, \\frac{1}{2})$ for $i \\neq j$.\n",
    "\n",
    "For the diagonal terms, \n",
    "\n",
    "$$G_{ii} = \\frac{A_{ii} + A^T_{ii}}{2} = A_{ii}$$ \n",
    "\n",
    "Thus $G$ has standard normals along its diagonals."
   ]
  },
  {
   "cell_type": "markdown",
   "metadata": {},
   "source": [
    "## Generating GOEs"
   ]
  },
  {
   "cell_type": "markdown",
   "metadata": {},
   "source": [
    "We can easily define a python function that can generate a $n \\times n$ GOE."
   ]
  },
  {
   "cell_type": "code",
   "execution_count": 2,
   "metadata": {},
   "outputs": [],
   "source": [
    "def Generate_GOE(n):\n",
    "    A = np.random.normal(size=[n,n])\n",
    "    G = (A+A.T)/2\n",
    "    return G"
   ]
  },
  {
   "cell_type": "code",
   "execution_count": 3,
   "metadata": {},
   "outputs": [
    {
     "data": {
      "text/plain": [
       "array([[-0.46716782,  0.64877452,  0.95627215, -0.40375639, -0.33796449],\n",
       "       [ 0.64877452, -0.52545575, -0.12170151, -0.69392319,  0.86457731],\n",
       "       [ 0.95627215, -0.12170151, -0.26515323, -0.12332301,  1.58699257],\n",
       "       [-0.40375639, -0.69392319, -0.12332301, -1.70569196, -0.03940469],\n",
       "       [-0.33796449,  0.86457731,  1.58699257, -0.03940469, -0.22856329]])"
      ]
     },
     "execution_count": 3,
     "metadata": {},
     "output_type": "execute_result"
    }
   ],
   "source": [
    "Generate_GOE(5)"
   ]
  }
 ],
 "metadata": {
  "kernelspec": {
   "display_name": "Python 3",
   "language": "python",
   "name": "python3"
  },
  "language_info": {
   "codemirror_mode": {
    "name": "ipython",
    "version": 3
   },
   "file_extension": ".py",
   "mimetype": "text/x-python",
   "name": "python",
   "nbconvert_exporter": "python",
   "pygments_lexer": "ipython3",
   "version": "3.8.1"
  }
 },
 "nbformat": 4,
 "nbformat_minor": 2
}
