{
 "cells": [
  {
   "cell_type": "code",
   "execution_count": 1,
   "metadata": {},
   "outputs": [],
   "source": [
    "import numpy as np\n",
    "import cmath\n",
    "np.random.seed(140)"
   ]
  },
  {
   "cell_type": "markdown",
   "metadata": {},
   "source": [
    "# Gaussian Orthogonal Ensembles"
   ]
  },
  {
   "cell_type": "markdown",
   "metadata": {},
   "source": [
    "The second class of Random Matrix that we will study are Gaussian Unitary Ensembles. They are very similar to GOEs, except they operate over the field of complex numbers $\\mathbb{C}$. In this chapter, since we are dealing with complex numbers, we index into a matrix using $n$ and $m$ instead of $i$ and $j$ to avoid confusion."
   ]
  },
  {
   "cell_type": "markdown",
   "metadata": {},
   "source": [
    "## Definition"
   ]
  },
  {
   "cell_type": "markdown",
   "metadata": {},
   "source": [
    "<hr>"
   ]
  },
  {
   "cell_type": "markdown",
   "metadata": {},
   "source": [
    "**Definition**: A matrix $G$ is called a Gaussian Unitary Ensemble (GUE) if there exists a random matrix $A$ with iid entires such that "
   ]
  },
  {
   "cell_type": "markdown",
   "metadata": {},
   "source": [
    "$$A_{nm} = X_{nm} + i Y_{nm}$$"
   ]
  },
  {
   "cell_type": "markdown",
   "metadata": {},
   "source": [
    "where $X_{nm} \\sim N(0, 1)$ and $Y_{nm} \\sim N(0, 1)$ so that"
   ]
  },
  {
   "cell_type": "markdown",
   "metadata": {},
   "source": [
    "$$G = \\frac{A + A^*}{2} $$"
   ]
  },
  {
   "cell_type": "markdown",
   "metadata": {},
   "source": [
    "Where * signifies the Hermetian adjoint."
   ]
  },
  {
   "cell_type": "markdown",
   "metadata": {},
   "source": [
    "<hr>"
   ]
  },
  {
   "cell_type": "markdown",
   "metadata": {},
   "source": [
    "## Distribution"
   ]
  },
  {
   "cell_type": "markdown",
   "metadata": {},
   "source": [
    "If $G$ is a GUE, then $G_{nm} \\sim CN(0,1)$ (complex standard normal random variable) for off diagonal terms and $G_{nn} \\sim N(0,1)$ for the diagonal terms."
   ]
  },
  {
   "cell_type": "markdown",
   "metadata": {},
   "source": [
    "*Proof*: \n",
    "\n",
    "Note that \n",
    "\n",
    "$$\n",
    "\\begin{align}\n",
    "\\begin{aligned}\n",
    "    G_{n,m} &= \\frac{A_{nm} + A^*_{nm}}{2} \\\\\n",
    "    &= \\frac{X_{nm} + i Y_{nm} + X_{mn} - iY_{mn}}{2} \\\\\n",
    "    &= \\frac{X_{nm} + X_{mn} + i(Y_{nm} - Y_{mn})}{2}\n",
    "\\end{aligned}\n",
    "\\end{align}\n",
    "$$\n",
    "\n",
    "Lets start with the easy case, the diagonals\n",
    "\n",
    "$$G_{nn} = \\frac{X_{nn} + X_{nn} + i(Y_{nn} - Y_{nn})}{2} = X_{nn} \\sim N(0, 1)$$\n",
    "\n",
    "For the off diagonal case, $G_{nm}$ ($n \\neq m$) is a complex normal random variable since it is the linear comination of independent complex normal random variables.\n",
    "\n",
    "$$\n",
    "\\begin{align}\n",
    "\\begin{aligned}\n",
    "    \\mathbb{E}[G_{nm}] &= \\mathbb{E}[\\frac{X_{nm} + X_{mn} + i(Y_{nm} - Y_{mn})}{2}] \\\\\n",
    "    &= \\frac{\\mathbb{E}[X_{nm}] + \\mathbb{E}[X_{mn}] + i(\\mathbb{E}[Y_{nm}] - \\mathbb{E}[Y_{mn}])}{2} \\\\\n",
    "    &= 0\n",
    "\\end{aligned}\n",
    "\\end{align}\n",
    "$$\n",
    "\n",
    "Since the expectation is 0, the variance is simply,\n",
    "\n",
    "$$\n",
    "\\begin{align}\n",
    "\\begin{aligned}\n",
    "    Var(G_{nm}) &= \\mathbb{E}[|\\frac{X_{nm} + X_{mn} + i(Y_{nm} - Y_{mn})}{2}|^2] \\\\\n",
    "    &= \\frac{1}{4} \\mathbb{E}[(X_{nm} + X_{mn})^2 + (Y_{nm}-Y_{mn})^2] \n",
    "\\end{aligned}\n",
    "\\end{align}\n",
    "$$\n",
    "\n",
    "Note $X_{nm} + X_{mn} \\sim N(0,2)$ and $Y_{nm}-Y_{mn} \\sim N(0,2)$, so\n",
    "\n",
    "$$Var(G_{nm}) = \\frac{1}{4} (Var(X_{nm} + X_{mn}) + Var(Y_{nm}-Y_{mn})) = 1$$\n",
    "\n",
    "Thus $G_{nm} \\sim CN(0, 1)$\n"
   ]
  },
  {
   "cell_type": "markdown",
   "metadata": {},
   "source": [
    "## Generating GUEs"
   ]
  },
  {
   "cell_type": "markdown",
   "metadata": {},
   "source": [
    "We can easily define a python function that can generate n by n GOE matricies for us."
   ]
  },
  {
   "cell_type": "code",
   "execution_count": 2,
   "metadata": {},
   "outputs": [],
   "source": [
    "def Generate_GUE(n):\n",
    "    i = complex(0,1)\n",
    "    Lambda_real = np.random.normal(size=[n,n])\n",
    "    Lambda_im = np.random.normal(size=[n,n])\n",
    "    Lambda = Lambda_real + Lambda_im * i\n",
    "    G = (Lambda+Lambda.T.conjugate())/2\n",
    "    return G"
   ]
  },
  {
   "cell_type": "code",
   "execution_count": 3,
   "metadata": {
    "scrolled": true
   },
   "outputs": [
    {
     "data": {
      "text/plain": [
       "array([[-0.46716782+0.j        ,  0.24073782+0.76350464j],\n",
       "       [ 0.24073782-0.76350464j, -0.82809842+0.j        ]])"
      ]
     },
     "execution_count": 3,
     "metadata": {},
     "output_type": "execute_result"
    }
   ],
   "source": [
    "Generate_GUE(2)"
   ]
  },
  {
   "cell_type": "markdown",
   "metadata": {},
   "source": [
    "Note that Python uses to letter $j$ instead of $i$ for complex numbers."
   ]
  }
 ],
 "metadata": {
  "kernelspec": {
   "display_name": "Python 3",
   "language": "python",
   "name": "python3"
  },
  "language_info": {
   "codemirror_mode": {
    "name": "ipython",
    "version": 3
   },
   "file_extension": ".py",
   "mimetype": "text/x-python",
   "name": "python",
   "nbconvert_exporter": "python",
   "pygments_lexer": "ipython3",
   "version": "3.8.1"
  }
 },
 "nbformat": 4,
 "nbformat_minor": 2
}
