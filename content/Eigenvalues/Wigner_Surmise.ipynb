{
 "cells": [
  {
   "cell_type": "code",
   "execution_count": 1,
   "metadata": {
    "scrolled": true,
    "tags": [
     "hide_input"
    ]
   },
   "outputs": [],
   "source": [
    "from sympy import *\n",
    "import scipy\n",
    "import numpy as np\n",
    "import matplotlib.pyplot as plt\n",
    "import seaborn as sns\n",
    "\n",
    "import sys\n",
    "sys.path.append('../../')\n",
    "import RandomMatrix as RM\n",
    "\n",
    "%matplotlib inline\n",
    "sns.set()\n",
    "\n",
    "np.random.seed(140)"
   ]
  },
  {
   "cell_type": "markdown",
   "metadata": {},
   "source": [
    "Suppose we have a 2 by 2 GOE with $X$ and $Y$ as the diagonal terms and $Z$ as the off diagonal term. Recall that $X,Y \\sim N(0,1)$ and $Z \\sim N(0, \\frac{1}{2})$"
   ]
  },
  {
   "cell_type": "code",
   "execution_count": 2,
   "metadata": {
    "scrolled": true,
    "tags": [
     "hide_input"
    ]
   },
   "outputs": [
    {
     "data": {
      "text/latex": [
       "$\\displaystyle \\left[\\begin{matrix}X & Z\\\\Z & Y\\end{matrix}\\right]$"
      ],
      "text/plain": [
       "Matrix([\n",
       "[X, Z],\n",
       "[Z, Y]])"
      ]
     },
     "execution_count": 2,
     "metadata": {},
     "output_type": "execute_result"
    }
   ],
   "source": [
    "X, Y, Z = symbols(\"X Y Z\")\n",
    "A = Matrix(np.array([[X,Z], [Z,Y]]))\n",
    "A"
   ]
  },
  {
   "cell_type": "markdown",
   "metadata": {},
   "source": [
    "We can easily find the characteristic equation for this general matrix"
   ]
  },
  {
   "cell_type": "code",
   "execution_count": 3,
   "metadata": {
    "tags": [
     "hide_input"
    ]
   },
   "outputs": [
    {
     "data": {
      "text/latex": [
       "$\\displaystyle - Z^{2} + \\left(X - 1.0 λ\\right) \\left(Y - 1.0 λ\\right)$"
      ],
      "text/plain": [
       "-Z**2 + (X - 1.0*λ)*(Y - 1.0*λ)"
      ]
     },
     "execution_count": 3,
     "metadata": {},
     "output_type": "execute_result"
    }
   ],
   "source": [
    "λ = symbols(\"λ\")\n",
    "characteristic_eq = det(A - λ*np.eye(2))\n",
    "characteristic_eq                      "
   ]
  },
  {
   "cell_type": "markdown",
   "metadata": {},
   "source": [
    "If we solve to find the eigenvalues and subtract the bigger eigenvalue from the smaller one we get the following expression for the difference between the eigenvalues, denoted by $\\Delta$"
   ]
  },
  {
   "cell_type": "code",
   "execution_count": 4,
   "metadata": {
    "scrolled": true,
    "tags": [
     "hide_input"
    ]
   },
   "outputs": [
    {
     "data": {
      "text/latex": [
       "$\\displaystyle 2.0 \\sqrt{0.25 X^{2} - 0.5 X Y + 0.25 Y^{2} + Z^{2}}$"
      ],
      "text/plain": [
       "2.0*sqrt(0.25*X**2 - 0.5*X*Y + 0.25*Y**2 + Z**2)"
      ]
     },
     "execution_count": 4,
     "metadata": {},
     "output_type": "execute_result"
    }
   ],
   "source": [
    "λ_2, λ_1 = solve(characteristic_eq,λ)\n",
    "Δ = λ_1 - λ_2\n",
    "Δ"
   ]
  },
  {
   "cell_type": "markdown",
   "metadata": {},
   "source": [
    "So $\\Delta = \\sqrt{(X-Y)^2 + 4Z^2}$. If we define $T=X-Y$, then $T \\sim N(0, 2)$. We can also define $S=2Z$, and note $S \\sim N(0,2)$. We can write $\\Delta = \\sqrt{T^2 + S^2}$. Thus $\\Delta$ is the square root of the sum of squares for iid normals, which brings us to our main result\n",
    "\n",
    "$$\\Delta \\sim \\text{Rayleigh}(\\sqrt{2})$$"
   ]
  },
  {
   "cell_type": "code",
   "execution_count": 5,
   "metadata": {},
   "outputs": [],
   "source": [
    "trials = 5000\n",
    "Δs = []\n",
    "for _ in range(trials):\n",
    "    A = RM.Generate_GOE(2)\n",
    "    λs, V = np.linalg.eigh(A)\n",
    "    λ_1, λ_2 = λs[1], λs[0]\n",
    "    Δs.append(λ_1 - λ_2)"
   ]
  },
  {
   "cell_type": "code",
   "execution_count": 6,
   "metadata": {
    "scrolled": true,
    "tags": [
     "hide_input"
    ]
   },
   "outputs": [
    {
     "data": {
      "image/png": "[encoded data removed]",
      "text/plain": [
       "<Figure size 432x288 with 1 Axes>"
      ]
     },
     "metadata": {},
     "output_type": "display_data"
    }
   ],
   "source": [
    "plt.ylabel(\"Density\")\n",
    "plt.xlabel(\"$\\lambda_2 - \\lambda_1$\")\n",
    "plt.title(\"Level Difference\")\n",
    "plt.hist(Δs, bins=20, density=True);"
   ]
  },
  {
   "cell_type": "markdown",
   "metadata": {},
   "source": [
    "Suppose we want to study what heppens to the spaces between eigenvalues as $N \\rightarrow \\infty$. For now, let's examine what heppens for $N=100$."
   ]
  },
  {
   "cell_type": "code",
   "execution_count": 7,
   "metadata": {},
   "outputs": [],
   "source": [
    "trials = 1000\n",
    "Δs = []\n",
    "matrix_size = 100\n",
    "for _ in range(trials):\n",
    "    A = RM.Generate_GOE(matrix_size) \n",
    "    λs, V = np.linalg.eigh(A)\n",
    "    eig_spaces = [λs[i+1] - λs[i] for i in range(matrix_size-1)]\n",
    "    Δs.extend(eig_spaces)"
   ]
  },
  {
   "cell_type": "code",
   "execution_count": 8,
   "metadata": {
    "tags": [
     "hide_input"
    ]
   },
   "outputs": [
    {
     "data": {
      "image/png": "[encoded data removed]",
      "text/plain": [
       "<Figure size 432x288 with 1 Axes>"
      ]
     },
     "metadata": {},
     "output_type": "display_data"
    }
   ],
   "source": [
    "plt.ylabel(\"Density\")\n",
    "plt.xlabel(\"Level Differences\")\n",
    "plt.title(\"Level Difference (N=100)\")\n",
    "plt.hist(Δs, bins=50, density=True);"
   ]
  },
  {
   "cell_type": "markdown",
   "metadata": {},
   "source": [
    "Next we'll try $N=300$."
   ]
  },
  {
   "cell_type": "code",
   "execution_count": 9,
   "metadata": {},
   "outputs": [],
   "source": [
    "trials = 1000\n",
    "Δs = []\n",
    "matrix_size = 300\n",
    "for _ in range(trials):\n",
    "    A = RM.Generate_GOE(matrix_size) \n",
    "    λs, V = np.linalg.eigh(A)\n",
    "    eig_spaces = [λs[i+1] - λs[i] for i in range(matrix_size-1)]\n",
    "    Δs.extend(eig_spaces)"
   ]
  },
  {
   "cell_type": "code",
   "execution_count": 10,
   "metadata": {
    "tags": [
     "hide_input"
    ]
   },
   "outputs": [
    {
     "data": {
      "image/png": "[encoded data removed]",
      "text/plain": [
       "<Figure size 432x288 with 1 Axes>"
      ]
     },
     "metadata": {},
     "output_type": "display_data"
    }
   ],
   "source": [
    "plt.ylabel(\"Density\")\n",
    "plt.xlabel(\"Level Differences\")\n",
    "plt.title(\"Level Differences (N=100)\")\n",
    "plt.hist(Δs, bins=50, density=True);"
   ]
  },
  {
   "cell_type": "markdown",
   "metadata": {},
   "source": [
    "Clearly, and perhaps unsurprisingly, the spacings become smaller and tend towards 0. In order to study the behavior of spacings asymptotically, we need to \"unfold\" the eigenvalues so that the spacings have mean 1."
   ]
  },
  {
   "cell_type": "markdown",
   "metadata": {},
   "source": [
    "# Unfolding of Spectra"
   ]
  },
  {
   "cell_type": "markdown",
   "metadata": {},
   "source": [
    "Suppose we have a collection of eigenvalues $\\lambda_1 \\leq \\lambda_2 \\leq ... \\leq \\lambda_n$ and we are interested in studying their level distances $\\lambda_{i+1} - \\lambda_i$. As seen above, these level distances will tend to 0 as the dimension of the Gaussian Ensemble gets large. Thus to get interesting results, we must scale (or \"unfold\") the eigenvalues so the mean spacing is equal to 1. To find this scaling factor, we use the results of the Wigner's Semicircle law section to define the mean cumulative spectral density\n",
    "\n",
    "$$F_{N, \\beta}(\\lambda) = N \\int_{-\\sqrt{2 \\beta N}}^{\\lambda} \\rho_{\\sqrt{2 \\beta N}}(t) dt $$\n",
    "\n",
    "Recall from the previous section the closed form solution to the indefinite integral"
   ]
  },
  {
   "cell_type": "code",
   "execution_count": 11,
   "metadata": {},
   "outputs": [
    {
     "data": {
      "text/latex": [
       "$\\displaystyle \\frac{N β \\operatorname{asin}{\\left(\\frac{\\sqrt{2} t}{2 \\sqrt{N} \\sqrt{β}} \\right)} + \\frac{t \\sqrt{2 N β - t^{2}}}{2}}{\\pi β}$"
      ],
      "text/plain": [
       "(N*β*asin(sqrt(2)*t/(2*sqrt(N)*sqrt(β))) + t*sqrt(2*N*β - t**2)/2)/(pi*β)"
      ]
     },
     "execution_count": 11,
     "metadata": {},
     "output_type": "execute_result"
    }
   ],
   "source": [
    "t = symbols(\"t\")\n",
    "N, β = symbols(\"N β\", positive=True)\n",
    "σ = 2/(pi*(2*β*N)) * sqrt((2*β*N) - t**2)\n",
    "Λ_N_β = integrate(N*σ, t)\n",
    "Λ_N_β"
   ]
  },
  {
   "cell_type": "markdown",
   "metadata": {},
   "source": [
    "We can find a closed form expression for $F(\\lambda)$"
   ]
  },
  {
   "cell_type": "code",
   "execution_count": 12,
   "metadata": {},
   "outputs": [
    {
     "data": {
      "text/latex": [
       "$\\displaystyle \\frac{N}{2} + \\frac{N β \\operatorname{asin}{\\left(\\frac{\\sqrt{2} λ}{2 \\sqrt{N} \\sqrt{β}} \\right)} + \\frac{λ \\sqrt{2 N β - λ^{2}}}{2}}{\\pi β}$"
      ],
      "text/plain": [
       "N/2 + (N*β*asin(sqrt(2)*λ/(2*sqrt(N)*sqrt(β))) + λ*sqrt(2*N*β - λ**2)/2)/(pi*β)"
      ]
     },
     "execution_count": 12,
     "metadata": {},
     "output_type": "execute_result"
    }
   ],
   "source": [
    "λ = symbols(\"λ\")\n",
    "F_λ = Λ_N_β.subs(t, λ) - Λ_N_β.subs(t, -sqrt(2*β*N))\n",
    "F_λ"
   ]
  },
  {
   "cell_type": "markdown",
   "metadata": {},
   "source": [
    "Thus we get \n",
    "\n",
    "$ F_{N, \\beta}(\\lambda) = \\begin{cases} \n",
    "      0 & \\lambda \\leq -\\sqrt{2 \\beta N} \\\\\n",
    "      \\frac{N}{2} + \\frac{1}{\\pi \\beta} \\left(N \\beta sin^{-1}(\\frac{\\sqrt{2}\\lambda}{2 \\sqrt{N \\beta}}) + \\frac{\\lambda \\sqrt{2N\\beta - \\lambda^2}}{2}\\right) & \\lambda \\in (-\\sqrt{2 \\beta N}, \\sqrt{2 \\beta N}) \\\\\n",
    "      N & \\lambda \\geq \\sqrt{2 \\beta N}\n",
    "   \\end{cases}$\n",
    "\n",
    "\n",
    "We can now define $\\bar{\\lambda}_i := F(\\lambda_i)$. The level spacings of these new values will have unit mean in expectation. The intuition for this is straightfoward, suppose $\\lambda_j$ is the $j$th largest eigenvalue. Then we expect $F(\\lambda_j) = j$. So $F(\\lambda_{j+1}) - F(\\lambda_j) = j + 1 - j = 1$."
   ]
  },
  {
   "cell_type": "code",
   "execution_count": 25,
   "metadata": {},
   "outputs": [],
   "source": [
    "def F(eig, size, beta):\n",
    "    if eig <= -np.sqrt(2*beta*size):\n",
    "        return 0\n",
    "    if eig >= np.sqrt(2*beta*size):\n",
    "        return size\n",
    "    else:\n",
    "        # F_λ is defined outside this function\n",
    "        return float(F_λ.subs(β, beta).subs(N, size).subs(λ, eig).evalf())"
   ]
  },
  {
   "cell_type": "markdown",
   "metadata": {},
   "source": [
    "Below is a demonstration of the unfolding procedure for a GOE. First we generate a $300 \\times 300$ GOE and find its eigenvalues"
   ]
  },
  {
   "cell_type": "code",
   "execution_count": 14,
   "metadata": {},
   "outputs": [],
   "source": [
    "matrix_size = 300\n",
    "A = RM.Generate_GOE(matrix_size) \n",
    "λs, V = np.linalg.eigh(A)"
   ]
  },
  {
   "cell_type": "markdown",
   "metadata": {},
   "source": [
    "Next we find $\\bar{\\lambda}_i \\ \\forall i$"
   ]
  },
  {
   "cell_type": "code",
   "execution_count": 15,
   "metadata": {
    "scrolled": true
   },
   "outputs": [],
   "source": [
    "λ_bar = [F(eigenvalue, matrix_size, 1) for eigenvalue in λs] "
   ]
  },
  {
   "cell_type": "markdown",
   "metadata": {},
   "source": [
    "We can verify that this collection of eigenvalues does indeed have level spacing with mean about 1."
   ]
  },
  {
   "cell_type": "code",
   "execution_count": 16,
   "metadata": {},
   "outputs": [
    {
     "data": {
      "text/plain": [
       "1.0025488914947855"
      ]
     },
     "execution_count": 16,
     "metadata": {},
     "output_type": "execute_result"
    }
   ],
   "source": [
    "eig_spaces = [λ_bar[i+1] - λ_bar[i] for i in range(matrix_size-1)]\n",
    "np.mean(eig_spaces)"
   ]
  },
  {
   "cell_type": "markdown",
   "metadata": {},
   "source": [
    "Below is the same demonstration but for a GUE"
   ]
  },
  {
   "cell_type": "code",
   "execution_count": 17,
   "metadata": {
    "scrolled": false
   },
   "outputs": [
    {
     "data": {
      "text/plain": [
       "0.999554510091682"
      ]
     },
     "execution_count": 17,
     "metadata": {},
     "output_type": "execute_result"
    }
   ],
   "source": [
    "matrix_size = 300\n",
    "A = RM.Generate_GUE(matrix_size) \n",
    "λs, V = np.linalg.eigh(A)\n",
    "λ_bar = [F(eigenvalue, matrix_size, 2) for eigenvalue in λs] \n",
    "eig_spaces = [λ_bar[i+1] - λ_bar[i] for i in range(matrix_size-1)]\n",
    "np.mean(eig_spaces)"
   ]
  },
  {
   "cell_type": "markdown",
   "metadata": {},
   "source": [
    "# Wigner's Surmise"
   ]
  },
  {
   "cell_type": "markdown",
   "metadata": {},
   "source": [
    "In 1956, E. P. Wigner surmised a formula for the density of level spacings of normalized eigenvalues. Wigner's Surmise says that the density of level distances for an unfolded set of eigenvalues can be approximated by\n",
    "\n",
    "$$p_{\\beta}(s) = a_{\\beta} s^{\\beta} e^{- b_{\\beta} s^2} $$\n",
    "\n",
    "where \n",
    "\n",
    "$$ a_{\\beta} = 2 \\frac{\\left(\\Gamma(\\frac{\\beta + 2}{2})\\right)^{\\beta + 1}}{\\left(\\Gamma(\\frac{\\beta + 1}{2})\\right)^{\\beta + 2}}, \\ b_{\\beta} = \\frac{\\left(\\Gamma(\\frac{\\beta + 2}{2})\\right)^{2}}{\\left(\\Gamma(\\frac{\\beta + 1}{2})\\right)^{2}}$$\n",
    "\n",
    "Note this is an approximation and does not necessarily converge for large $N$."
   ]
  },
  {
   "cell_type": "code",
   "execution_count": 18,
   "metadata": {},
   "outputs": [],
   "source": [
    "gamma = lambda x: scipy.special.gamma(x)\n",
    "def wigner_surmise(s, beta):\n",
    "    a = 2*(gamma((beta+2)/2))**(beta+1)/(gamma((beta+1)/2))**(beta + 2)\n",
    "    b = (gamma((beta+2)/2))**2/(gamma((beta+1)/2))**2\n",
    "    return a * (s**beta) * np.exp(-b*s**2)"
   ]
  },
  {
   "cell_type": "markdown",
   "metadata": {},
   "source": [
    "We will test this approximation by generating multiple $100 \\times 100$ GOEs and plotting the distribution of their unfolded eigenvalues."
   ]
  },
  {
   "cell_type": "code",
   "execution_count": 19,
   "metadata": {},
   "outputs": [],
   "source": [
    "matrix_size = 100\n",
    "trials = 500\n",
    "all_GOE_spaces = []\n",
    "for _ in range(trials):\n",
    "    A = RM.Generate_GOE(matrix_size) \n",
    "    λs, V = np.linalg.eigh(A)\n",
    "    λ_bar = [F(eigenvalue, matrix_size, 1) for eigenvalue in λs] \n",
    "    eig_spaces = [λ_bar[i+1] - λ_bar[i] for i in range(matrix_size-1)]\n",
    "    all_GOE_spaces.extend(eig_spaces)"
   ]
  },
  {
   "cell_type": "code",
   "execution_count": 23,
   "metadata": {
    "scrolled": false,
    "tags": [
     "hide_input"
    ]
   },
   "outputs": [
    {
     "data": {
      "image/png": "[encoded data removed]",
      "text/plain": [
       "<Figure size 432x288 with 1 Axes>"
      ]
     },
     "metadata": {},
     "output_type": "display_data"
    }
   ],
   "source": [
    "plt.ylabel(\"Density\")\n",
    "plt.xlabel(\"Level Spacings\")\n",
    "plt.title(\"Wigner's Sermise (GOE)\")\n",
    "plt.hist(all_GOE_spaces, bins=50, density=True)\n",
    "t = np.arange(0., 3, 0.05)\n",
    "wigner_curve = wigner_surmise(t, 1)\n",
    "plt.plot(t, wigner_curve);"
   ]
  },
  {
   "cell_type": "markdown",
   "metadata": {},
   "source": [
    "Now we do the same test for $100 \\times 100$ GUEs"
   ]
  },
  {
   "cell_type": "code",
   "execution_count": 21,
   "metadata": {},
   "outputs": [],
   "source": [
    "matrix_size = 100\n",
    "trials = 500\n",
    "all_GUE_spaces = []\n",
    "for _ in range(trials):\n",
    "    A = RM.Generate_GUE(matrix_size) \n",
    "    λs, V = np.linalg.eigh(A)\n",
    "    λ_bar = [F(eigenvalue, matrix_size, 2) for eigenvalue in λs] \n",
    "    eig_spaces = [λ_bar[i+1] - λ_bar[i] for i in range(matrix_size-1)]\n",
    "    all_GUE_spaces.extend(eig_spaces)"
   ]
  },
  {
   "cell_type": "code",
   "execution_count": 24,
   "metadata": {
    "scrolled": true
   },
   "outputs": [
    {
     "data": {
      "image/png": "[encoded data removed]",
      "text/plain": [
       "<Figure size 432x288 with 1 Axes>"
      ]
     },
     "metadata": {},
     "output_type": "display_data"
    }
   ],
   "source": [
    "plt.ylabel(\"Density\")\n",
    "plt.xlabel(\"Level Spacings\")\n",
    "plt.title(\"Wigner's Sermise (GUE)\")\n",
    "plt.hist(all_GUE_spaces, bins=50, density=True)\n",
    "t = np.arange(0., 3, 0.05)\n",
    "wigner_curve = wigner_surmise(t, 2)\n",
    "plt.plot(t, wigner_curve);"
   ]
  },
  {
   "cell_type": "markdown",
   "metadata": {},
   "source": [
    "We will discuss how to calculate the exact level densities for the $\\beta = 2$ case in the next section."
   ]
  }
 ],
 "metadata": {
  "kernelspec": {
   "display_name": "Python 3",
   "language": "python",
   "name": "python3"
  },
  "language_info": {
   "codemirror_mode": {
    "name": "ipython",
    "version": 3
   },
   "file_extension": ".py",
   "mimetype": "text/x-python",
   "name": "python",
   "nbconvert_exporter": "python",
   "pygments_lexer": "ipython3",
   "version": "3.8.1"
  }
 },
 "nbformat": 4,
 "nbformat_minor": 2
}
