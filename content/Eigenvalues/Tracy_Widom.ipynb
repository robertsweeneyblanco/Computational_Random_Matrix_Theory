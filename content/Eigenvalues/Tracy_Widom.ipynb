{
 "cells": [
  {
   "cell_type": "code",
   "execution_count": 1,
   "metadata": {
    "tags": [
     "hide_input"
    ]
   },
   "outputs": [],
   "source": [
    "from sympy import *\n",
    "import numpy as np\n",
    "from sympy import symbols, Function, integrate, diff\n",
    "from scipy.special import airy\n",
    "from scipy.integrate import solve_ivp, quad\n",
    "import matplotlib.pyplot as plt\n",
    "import seaborn as sns\n",
    "import random\n",
    "\n",
    "import sys\n",
    "sys.path.append('../../')\n",
    "import RandomMatrix as RM\n",
    "\n",
    "%matplotlib inline\n",
    "sns.set()\n",
    "\n",
    "np.random.seed(140)\n",
    "random.seed(140)"
   ]
  },
  {
   "cell_type": "markdown",
   "metadata": {},
   "source": [
    "# Defining the Tracy Widom distribution"
   ]
  },
  {
   "cell_type": "markdown",
   "metadata": {},
   "source": [
    "The Tracy-Widom distribution was defined by Craig A. Tracy and Harold Widom in their paper [*On Orthogonal and Symplectic Matrix Ensembles*](https://arxiv.org/abs/solv-int/9509007). It is an important distribution for studying the distribution of the fluctuations of the maximum eigenvalue of a Gaussian Ensemble. Each Gaussian ensemble has a corresponding Tracy Widom distribution. We will denote the Tracy Widom distribution for Gaussian Ensemble with Dyson index $\\beta$ as $TW_\\beta$. Let us study the distribution before its application.\n",
    "\n",
    "Suppose $q$ is the solution to the Painlevé differential equation\n",
    "\n",
    "$$q'' = sq + 2q^3 $$\n",
    "\n",
    "with the boundry condition $q \\sim Ai(s)$ as $s \\rightarrow \\infty$. Define $I(t)$ and $J(t)$ to be the following\n",
    "\n",
    "$$I(t) = - \\int_{t}^{\\infty} (x-t) q^2(x) dx$$\n",
    "\n",
    "$$J(t) = \\int_{t}^{\\infty} q(x) dx$$\n",
    "\n",
    "If we define $F_\\beta$ to be the CDF of $TW_\\beta$ then \n",
    "\n",
    "$$F_2(t) = e^{I(t)}$$\n",
    "\n",
    "$$F_1(t) = \\sqrt{F_2(t) e^{-J(t)}} $$\n",
    "\n",
    "\n"
   ]
  },
  {
   "cell_type": "markdown",
   "metadata": {},
   "source": [
    "# Density of Tracy Widom"
   ]
  },
  {
   "cell_type": "markdown",
   "metadata": {},
   "source": [
    "To solve for the density of the Tracy Widom we would need to solve for a closed form solution to the Painlevé differential equation. We will instead approximate the curve using the Scipy's ODE solver. In order to define an initial condition, let $t_0$ be a large value so that the condition $q(t_0) = \\text{Ai}(t_0)$ approximates our asymptotic boundry condition well. Using the Fundamental Theorem of Calculus, we can differentiate $I$ and $J$ to make them a solution to a differential equation our ODE solver can solve."
   ]
  },
  {
   "cell_type": "code",
   "execution_count": 2,
   "metadata": {
    "scrolled": true
   },
   "outputs": [
    {
     "data": {
      "text/latex": [
       "$\\displaystyle \\int\\limits_{t}^{\\infty} \\left(- t + x\\right) q^{2}{\\left(x \\right)}\\, dx$"
      ],
      "text/plain": [
       "Integral((-t + x)*q(x)**2, (x, t, oo))"
      ]
     },
     "execution_count": 2,
     "metadata": {},
     "output_type": "execute_result"
    }
   ],
   "source": [
    "# Definition of I(t)\n",
    "t, x = symbols(\"t x\")\n",
    "q = Function(\"q\")\n",
    "I = integrate((x-t)*q(x)**2, (x, t, oo))\n",
    "I"
   ]
  },
  {
   "cell_type": "code",
   "execution_count": 3,
   "metadata": {
    "scrolled": true
   },
   "outputs": [
    {
     "data": {
      "text/latex": [
       "$\\displaystyle \\int\\limits_{t}^{\\infty} - q^{2}{\\left(x \\right)}\\, dx$"
      ],
      "text/plain": [
       "Integral(-q(x)**2, (x, t, oo))"
      ]
     },
     "execution_count": 3,
     "metadata": {},
     "output_type": "execute_result"
    }
   ],
   "source": [
    "# I'(t)\n",
    "I_prime = diff(integrate((x-t)*q(x)**2, (x, t, oo)), t)\n",
    "I_prime"
   ]
  },
  {
   "cell_type": "code",
   "execution_count": 4,
   "metadata": {},
   "outputs": [
    {
     "data": {
      "text/latex": [
       "$\\displaystyle q^{2}{\\left(t \\right)}$"
      ],
      "text/plain": [
       "q(t)**2"
      ]
     },
     "execution_count": 4,
     "metadata": {},
     "output_type": "execute_result"
    }
   ],
   "source": [
    "# I''(t)\n",
    "I_prime2 = diff(integrate((x-t)*q(x)**2, (x, t, oo)), t, 2)\n",
    "I_prime2"
   ]
  },
  {
   "cell_type": "markdown",
   "metadata": {},
   "source": [
    "Thus we can solve for $I(t)$ by solving for the differential equation\n",
    "\n",
    "$$ \\frac{d}{dt} \\begin{pmatrix}\n",
    " \\text{I}(t)\\\\\n",
    "\\text{I}'(t)\n",
    "\\end{pmatrix} =\n",
    "\\begin{pmatrix}\n",
    " \\text{I}'(t)\\\\\n",
    "q^2\n",
    "\\end{pmatrix}\n",
    "$$\n",
    "\n",
    "such that\n",
    "\n",
    "$$I(t_0) = - \\int_{t_0}^{\\infty} (x-t_0) q^2(x) dx $$"
   ]
  },
  {
   "cell_type": "code",
   "execution_count": 5,
   "metadata": {},
   "outputs": [
    {
     "data": {
      "text/latex": [
       "$\\displaystyle \\int\\limits_{t}^{\\infty} q{\\left(x \\right)}\\, dx$"
      ],
      "text/plain": [
       "Integral(q(x), (x, t, oo))"
      ]
     },
     "execution_count": 5,
     "metadata": {},
     "output_type": "execute_result"
    }
   ],
   "source": [
    "J = integrate(q(x), (x, t, oo))\n",
    "J"
   ]
  },
  {
   "cell_type": "code",
   "execution_count": 6,
   "metadata": {},
   "outputs": [
    {
     "data": {
      "text/latex": [
       "$\\displaystyle - q{\\left(t \\right)}$"
      ],
      "text/plain": [
       "-q(t)"
      ]
     },
     "execution_count": 6,
     "metadata": {},
     "output_type": "execute_result"
    }
   ],
   "source": [
    "# J'(t)\n",
    "diff(J)"
   ]
  },
  {
   "cell_type": "markdown",
   "metadata": {},
   "source": [
    "Thus we can solve for $J$ by solving\n",
    "\n",
    "$$ \\frac{dJ}{dt} = -q(t)$$\n",
    "\n",
    "such that \n",
    "\n",
    "$$J(t_0) = \\int_{t_0}^{\\infty} q(x) dx$$"
   ]
  },
  {
   "cell_type": "markdown",
   "metadata": {},
   "source": [
    "In order to improve accuracy, we will use the solver to simultaneously find the values of $q(t)$, $I(t)$ and $J(t)$ in one system of differential equations. This strategy was suggested by Alan Edelman and Per-Olof Persson in their paper [*Numerical Methods for Eigenvalue Distributions of Random Matrices*](https://arxiv.org/abs/math-ph/0501068). Note that we must now slightly change our initial conditions for $I(t)$ and $J(t)$ to avoid using $q$ (since we won't have an approximation for it yet). Luckly, we decided to choose $t_0$ large enough so that $q(t) \\approx \\text{Ai}(t)$ for $t \\geq t_0$, so we may replace $q$ in our intial conditions with $\\text{Ai}$. The system of differential equations becomes \n",
    "\n",
    "$$\\frac{dy}{dt} = \\begin{pmatrix}\n",
    "q' \\\\\n",
    "tq+2q^3 \\\\\n",
    "I' \\\\\n",
    "q^2 \\\\\n",
    "-q\n",
    "\\end{pmatrix}$$\n",
    "\n",
    "where\n",
    "\n",
    "$$y = \\begin{pmatrix}\n",
    "q \\\\\n",
    "q' \\\\\n",
    "I \\\\\n",
    "I' \\\\\n",
    "J\n",
    "\\end{pmatrix}$$\n",
    "\n",
    "such that\n",
    "\n",
    "$$y(t_0) = \\begin{pmatrix}\n",
    "\\text{Ai}(t_0) \\\\\n",
    "\\text{Ai}'(t_0) \\\\\n",
    "\\int_{t_0}^{\\infty} (x-t_0) \\text{Ai}^2(x) dx \\\\\n",
    "\\text{Ai}(t_0)^2 \\\\\n",
    "\\int_{t_0}^{\\infty} \\text{Ai}(x) dx\n",
    "\\end{pmatrix} $$"
   ]
  },
  {
   "cell_type": "markdown",
   "metadata": {},
   "source": [
    "Below we define the function we will pass into the ODE solver"
   ]
  },
  {
   "cell_type": "code",
   "execution_count": 7,
   "metadata": {},
   "outputs": [],
   "source": [
    "def f(t, y):\n",
    "    d0 = y[1]\n",
    "    d1 = t*y[0]+2*y[0]**3\n",
    "    d2 = y[3]\n",
    "    d3 = y[0]**2\n",
    "    d4 = -y[0]\n",
    "    return np.array([d0, d1, d2, d3, d4])"
   ]
  },
  {
   "cell_type": "markdown",
   "metadata": {},
   "source": [
    "Set the parameters"
   ]
  },
  {
   "cell_type": "code",
   "execution_count": 8,
   "metadata": {},
   "outputs": [],
   "source": [
    "t0 = 4\n",
    "tf = -6"
   ]
  },
  {
   "cell_type": "markdown",
   "metadata": {},
   "source": [
    "Define the initial condition"
   ]
  },
  {
   "cell_type": "code",
   "execution_count": 9,
   "metadata": {},
   "outputs": [],
   "source": [
    "y0_0 = airy(t0)[0]\n",
    "y0_1 = airy(t0)[1]\n",
    "y0_2 = quad(lambda x: (x-t0)*airy(x)[0]**2, t0, np.inf)[0]\n",
    "y0_3 = airy(t0)[0]\n",
    "y0_4 = quad(lambda x: airy(x)[0], t0, np.inf)[0]\n",
    "y0 = np.array([y0_0, y0_1, y0_2, y0_3, y0_4])"
   ]
  },
  {
   "cell_type": "markdown",
   "metadata": {},
   "source": [
    "Solve the ODE"
   ]
  },
  {
   "cell_type": "code",
   "execution_count": 10,
   "metadata": {},
   "outputs": [],
   "source": [
    "sol = solve_ivp(f, (t0, tf) ,y0, max_step=.1)"
   ]
  },
  {
   "cell_type": "markdown",
   "metadata": {},
   "source": [
    "Find the density of $TW_2$"
   ]
  },
  {
   "cell_type": "code",
   "execution_count": 11,
   "metadata": {},
   "outputs": [],
   "source": [
    "F2 = np.exp(-sol.y[2])\n",
    "f2 = -sol.y[3] * F2"
   ]
  },
  {
   "cell_type": "markdown",
   "metadata": {},
   "source": [
    "Find the density of $TW_1$"
   ]
  },
  {
   "cell_type": "code",
   "execution_count": 12,
   "metadata": {},
   "outputs": [],
   "source": [
    "F1 = np.sqrt(F2 * np.exp(-sol.y[4]))\n",
    "f1 = 1/(2*F1)*(f2+sol.y[0]*F2)*np.exp(-sol.y[4])"
   ]
  },
  {
   "cell_type": "markdown",
   "metadata": {},
   "source": [
    "Plot the densities"
   ]
  },
  {
   "cell_type": "code",
   "execution_count": 13,
   "metadata": {
    "tags": [
     "hide_input"
    ]
   },
   "outputs": [
    {
     "data": {
      "image/png": "[encoded data removed]",
      "text/plain": [
       "<Figure size 432x288 with 1 Axes>"
      ]
     },
     "metadata": {},
     "output_type": "display_data"
    }
   ],
   "source": [
    "plt.plot(sol.t, f2, label=\"β=2\")\n",
    "plt.plot(sol.t, f1, label=\"β=1\")\n",
    "plt.xlabel(\"t\")\n",
    "plt.ylabel(\"density\")\n",
    "plt.title(\"Tracy Widom for β=1,2\")\n",
    "plt.legend();"
   ]
  },
  {
   "cell_type": "markdown",
   "metadata": {},
   "source": [
    "# Simulation"
   ]
  },
  {
   "cell_type": "markdown",
   "metadata": {},
   "source": [
    "Tracy and Widom derived the distribution in their paper and proved its relationship to the fluctuations of the largest eigenvalue of Gaussian ensembles. Let the CDF for the $N \\times N$ Gaussian ensemble with Dyson index $\\beta$ be denoted as $F_{N, \\beta}$. Also define $F_\\beta$ and $f_\\beta$ to be the CDF and density of the Tracy Widom distribution for Dyson index $\\beta$ respectively. Tracy and Widom proved the following theorem \n",
    "\n",
    "$$ F_\\beta(s) = \\lim_{N \\rightarrow \\infty} F_{N, \\beta} \\left(2 \\sigma \\sqrt{N} + \\frac{\\sigma s}{N^{1/6}} \\right)$$\n",
    "\n",
    "We can take the derivative to find the density of the distribution\n",
    "\n",
    "$$\n",
    "\\begin{align}\n",
    "\\begin{aligned}\n",
    "f_\\beta(s) &= \\lim_{N \\rightarrow \\infty} f_{N,\\beta} \\left(2 \\sigma \\sqrt{N} + \\frac{\\sigma s}{N^{1/6}} \\right) \\frac{\\sigma}{N^{1/6}} \\\\\\\\\n",
    "&= \\lim_{N \\rightarrow \\infty} f_{N, \\beta} \\left(\\frac{s+2\\sqrt{N}N^{1/6}}{\\frac{N^{1/6}}{\\sigma}} \\right) \\frac{1}{\\frac{N^{1/6}}{\\sigma}}\n",
    "\\end{aligned}\n",
    "\\end{align}\n",
    "$$\n",
    "\n",
    "\n",
    "Recall the formula for the density of linear transformations $f_{aX+b}(s) = f_{X}(\\frac{s-b}{a}) \\frac{1}{|a|}$. This implies that if $\\lambda_{\\max}$ is the greatest eigenvalue and $\\sigma$ is the standard deviation of it's off diagonals, then \n",
    "\n",
    "$$\\lim_{N \\rightarrow \\infty} \\frac{N^{1/6}}{\\sigma} \\lambda_{\\max} - 2 \\sqrt{N} N^{1/6} \\sim \\text{Tracy Widom}_{\\beta}$$\n",
    "\n",
    "\n"
   ]
  },
  {
   "cell_type": "markdown",
   "metadata": {},
   "source": [
    "# Simulation"
   ]
  },
  {
   "cell_type": "markdown",
   "metadata": {},
   "source": [
    "## GOE"
   ]
  },
  {
   "cell_type": "markdown",
   "metadata": {},
   "source": [
    "Recall from the first chapter the off diagonal terms in a GOE have standard deviation $\\frac{1}{\\sqrt{2}}$"
   ]
  },
  {
   "cell_type": "code",
   "execution_count": 14,
   "metadata": {},
   "outputs": [],
   "source": [
    "trials = 10000\n",
    "GOE_samples = []\n",
    "N = 400\n",
    "σ = 1/(np.sqrt(2))\n",
    "for _ in range(trials):\n",
    "    A = RM.Generate_GOE(N)\n",
    "    λs = np.linalg.eigvals(A)\n",
    "    λ_max = max(λs)\n",
    "    GOE_samples.append(N**(1/6) * (λ_max/σ - 2*np.sqrt(N)))"
   ]
  },
  {
   "cell_type": "code",
   "execution_count": 15,
   "metadata": {
    "scrolled": true,
    "tags": [
     "hide_input"
    ]
   },
   "outputs": [
    {
     "data": {
      "image/png": "[encoded data removed]",
      "text/plain": [
       "<Figure size 432x288 with 1 Axes>"
      ]
     },
     "metadata": {},
     "output_type": "display_data"
    }
   ],
   "source": [
    "plt.ylabel(\"Density\")\n",
    "plt.xlabel(\"Samples\")\n",
    "plt.title(\"Tracy-Widom GOE\")\n",
    "plt.hist(GOE_samples, bins=70, density=True)\n",
    "plt.plot(sol.t, f1);"
   ]
  },
  {
   "cell_type": "markdown",
   "metadata": {},
   "source": [
    "## GUE"
   ]
  },
  {
   "cell_type": "markdown",
   "metadata": {},
   "source": [
    "Recall from the first chapter that the off diagonal terms of a GUE have standard deviation 1."
   ]
  },
  {
   "cell_type": "code",
   "execution_count": 16,
   "metadata": {},
   "outputs": [],
   "source": [
    "trials = 30000\n",
    "GUE_samples = []\n",
    "N = 100\n",
    "σ = 1\n",
    "for _ in range(trials):\n",
    "    A = RM.Generate_GUE(N)\n",
    "    λs, V = np.linalg.eigh(A)\n",
    "    λ_max = max(λs)\n",
    "    GUE_samples.append(N**(1/6)*(λ_max/σ - 2*np.sqrt(N)))"
   ]
  },
  {
   "cell_type": "code",
   "execution_count": 17,
   "metadata": {
    "scrolled": true,
    "tags": [
     "hide_input"
    ]
   },
   "outputs": [
    {
     "data": {
      "image/png": "[encoded data removed]",
      "text/plain": [
       "<Figure size 432x288 with 1 Axes>"
      ]
     },
     "metadata": {},
     "output_type": "display_data"
    }
   ],
   "source": [
    "plt.ylabel(\"Density\")\n",
    "plt.xlabel(\"Samples\")\n",
    "plt.title(\"Tracy-Widom GUE\")\n",
    "plt.hist(GUE_samples, bins=50, density=True)\n",
    "plt.plot(sol.t, f2);"
   ]
  },
  {
   "cell_type": "markdown",
   "metadata": {},
   "source": [
    "# Longest Increasing Subsequence"
   ]
  },
  {
   "cell_type": "markdown",
   "metadata": {},
   "source": [
    "The Tracy Widom distribution suprisingly arises when studying sequences, as explained in [On the Distribution of the Length of the Longest Increasing Subsequence of Random Permutations](https://arxiv.org/abs/math/9810105) by Jinho Baik, Percy Deift, and Kurt Johansson. Let $S_N$ be the group of permutations of $1,2,3,...,N$. Define $\\ell_N(\\pi)$ to be the longest monotone increasing subsequence $\\pi \\in S_n$. Then\n",
    "\n",
    "$$ \\frac{\\ell_N - 2\\sqrt{N}}{N^{1/6}} \\longrightarrow TW_2$$ \n",
    "\n",
    "as $N \\longrightarrow \\infty$. \n",
    "\n",
    "Below we sample from $S_N$, measure their lengths and plot the normalized distribution where $N=5000$."
   ]
  },
  {
   "cell_type": "code",
   "execution_count": 18,
   "metadata": {
    "tags": [
     "hide_input"
    ]
   },
   "outputs": [],
   "source": [
    "def longest_increasing_subsequence(X):\n",
    "    # https://en.wikipedia.org/wiki/Longest_increasing_subsequence#Efficient_algorithms\n",
    "    \"\"\"Returns the Longest Increasing Subsequence in the Given List/Array\"\"\"\n",
    "    N = len(X)\n",
    "    P = [0] * N\n",
    "    M = [0] * (N+1)\n",
    "    L = 0\n",
    "    for i in range(N):\n",
    "        lo = 1\n",
    "        hi = L\n",
    "        while lo <= hi:\n",
    "            mid = (lo+hi)//2\n",
    "            if (X[M[mid]] < X[i]):\n",
    "                lo = mid+1\n",
    "            else:\n",
    "                hi = mid-1\n",
    "        newL = lo\n",
    "        P[i] = M[newL-1]\n",
    "        M[newL] = i\n",
    "        if (newL > L):\n",
    "            L = newL\n",
    "    return L\n",
    "\n",
    "def sample_random_perm_lens(N, sample_size):\n",
    "    lengths = []\n",
    "    numbers = np.arange(1, N+1)\n",
    "    for _ in range(sample_size):\n",
    "        random.shuffle(numbers)\n",
    "        lengths.append(longest_increasing_subsequence(numbers))\n",
    "    return lengths"
   ]
  },
  {
   "cell_type": "code",
   "execution_count": 19,
   "metadata": {},
   "outputs": [],
   "source": [
    "N = 5000\n",
    "sample_size = 10000\n",
    "perm_lens = sample_random_perm_lens(N, sample_size)\n",
    "χ = (perm_lens - 2*np.sqrt(N))/N**(1/6)"
   ]
  },
  {
   "cell_type": "code",
   "execution_count": 20,
   "metadata": {
    "tags": [
     "hide_input"
    ]
   },
   "outputs": [
    {
     "data": {
      "image/png": "[encoded data removed]",
      "text/plain": [
       "<Figure size 432x288 with 1 Axes>"
      ]
     },
     "metadata": {},
     "output_type": "display_data"
    }
   ],
   "source": [
    "plt.hist(χ, bins=28, density=True)\n",
    "plt.plot(sol.t, f2, label=\"β=2\");"
   ]
  },
  {
   "cell_type": "markdown",
   "metadata": {},
   "source": [
    "We expect the bias to be corrected as we increase $N$, but that may be very computationally expensive."
   ]
  }
 ],
 "metadata": {
  "kernelspec": {
   "display_name": "Python 3",
   "language": "python",
   "name": "python3"
  },
  "language_info": {
   "codemirror_mode": {
    "name": "ipython",
    "version": 3
   },
   "file_extension": ".py",
   "mimetype": "text/x-python",
   "name": "python",
   "nbconvert_exporter": "python",
   "pygments_lexer": "ipython3",
   "version": "3.8.1"
  }
 },
 "nbformat": 4,
 "nbformat_minor": 2
}
