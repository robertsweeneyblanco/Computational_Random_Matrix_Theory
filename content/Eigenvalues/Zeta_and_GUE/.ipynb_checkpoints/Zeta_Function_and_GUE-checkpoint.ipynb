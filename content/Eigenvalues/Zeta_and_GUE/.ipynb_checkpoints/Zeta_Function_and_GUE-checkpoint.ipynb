{
 "cells": [
  {
   "cell_type": "code",
   "execution_count": 1,
   "metadata": {
    "tags": [
     "hide_input"
    ]
   },
   "outputs": [],
   "source": [
    "import numpy as np\n",
    "from decimal import *\n",
    "import matplotlib.pyplot as plt\n",
    "import seaborn as sns\n",
    "import scipy\n",
    "from scipy.integrate import solve_ivp\n",
    "\n",
    "import sys\n",
    "sys.path.append('../../')\n",
    "import RandomMatrix as RM\n",
    "\n",
    "%matplotlib inline\n",
    "sns.set()\n",
    "\n",
    "from math import pi\n",
    "PI = Decimal(pi)"
   ]
  },
  {
   "cell_type": "markdown",
   "metadata": {},
   "source": [
    "In the previous section, we discussed the distribution of eigenvalue gaps for Gaussian Ensembles. In particular, we showed Wigner's surmise was a reasonable approximation to the distirbution's density. In this section, we will demonstrate how to compute the true underlying distribution for GUEs and their connection to the zeros of the Riemann Zeta function."
   ]
  },
  {
   "cell_type": "markdown",
   "metadata": {},
   "source": [
    "# Distribution of Spacings of Eigenvalue of GUEs"
   ]
  },
  {
   "cell_type": "markdown",
   "metadata": {},
   "source": [
    "The density of the distribution of gaps between eigenvalues can be computed as the solution to the Painleve V ODE. We will follow the procedure prescribed by Alan Edelman and Per-Olof Persson in [*Numerical Methods for Eigenvalue Distribution of Random Matrices*](https://arxiv.org/abs/math-ph/0501068). "
   ]
  },
  {
   "cell_type": "markdown",
   "metadata": {},
   "source": [
    "## Painleve V"
   ]
  },
  {
   "cell_type": "markdown",
   "metadata": {},
   "source": [
    "We say $\\sigma$ satisfies the Painleve V differential equation if for $t > 0$\n",
    "\n",
    "$$(t\\sigma'')^2 - 4(\\sigma - t\\sigma')(t\\sigma'-\\sigma + (\\sigma')^2) = 0 $$\n",
    "\n",
    "with the boundary condition\n",
    "\n",
    "$$\\sigma(t) \\approx -\\frac{t}{\\pi} - \\left( \\frac{t}{\\pi} \\right)^2 \\  \\text{ as } t \\rightarrow 0^+$$\n",
    "\n",
    "We can rewrite the ODE as \n",
    "\n",
    "$$ \\sigma'' = -\\frac{2}{t}\\sqrt{(\\sigma - t\\sigma')(t\\sigma'-\\sigma + (\\sigma')^2)}$$\n",
    "\n",
    "We take the negative root because we want to satisfy the intial condition $\\sigma''(t) \\approx -\\frac{2}{\\pi^2} \\  \\text{ as } t \\rightarrow 0^+$\n",
    "\n",
    "Define $E(t)$ as\n",
    "\n",
    "$$E(t) := \\exp \\left({\\int_{0}^{\\pi t} \\frac{\\sigma(s)}{s} ds} \\right) $$\n",
    "\n",
    "then using the Fundamental Theorem of Calculus and the Chain Rule\n",
    "\n",
    "$$E'(t) = E(t)\\frac{\\sigma(\\pi t)}{\\pi t} \\pi = E(t)\\frac{\\sigma(\\pi t)}{t}$$\n",
    "\n",
    "$$E''(t) = E'(t) \\frac{\\sigma(\\pi t)}{t} + E(t) \\frac{\\sigma'(\\pi t) \\pi t - \\sigma(\\pi t)}{t^2} = \\frac{E(t)}{t^2} \\left(\\sigma^2(\\pi t) + \\sigma'(\\pi t) \\pi t - \\sigma(\\pi t)  \\right) $$\n",
    "\n",
    "Let $p(t)$ be the density of the level spacings for GUE matrices. Then $p(t) = E''(t)$. If we can use the ODE solver to calculate values for $E(t)$, then we can easily compute values for $p(t)$ using the formula above. To assist with using the ODE solver to find $E(t)$ define $I(t)$ as \n",
    "\n",
    "$$I(t) := \\int_{0}^t \\frac{\\sigma(s)}{s} ds $$\n",
    "\n",
    "Note that \n",
    "\n",
    "$$I'(t) := \\frac{\\sigma(t)}{t} $$\n",
    "\n",
    "We can rewrite $E$ as $E(t) = \\exp \\left( I(\\pi t) \\right)$. If $x=\\frac{t}{\\pi}$, then $E(x) = \\exp \\left( I(t) \\right)$. We can use the ODE solver to compute values of $I$ with the system of ODEs\n",
    "\n",
    "$$\n",
    "\\frac{d}{dt}\n",
    "\\begin{pmatrix}\n",
    " \\sigma \\\\\n",
    " \\sigma' \\\\\n",
    " I\n",
    "\\end{pmatrix}\n",
    "=\n",
    "\\begin{pmatrix}\n",
    " \\sigma' \\\\\n",
    " -\\frac{2}{t} \\sqrt{(\\sigma - t\\sigma')(t\\sigma' - \\sigma + (\\sigma')^2)} \\\\\n",
    " \\frac{\\sigma}{t}\n",
    "\\end{pmatrix}\n",
    "$$\n",
    "\n",
    "For the boundary condition, if we let $t_0$ be a positive number very close to $0$ then\n",
    "\n",
    "$$\\sigma(t_0) \\approx -\\frac{t_0}{\\pi} - \\left( \\frac{t_0}{\\pi} \\right)^2  $$\n",
    "\n",
    "$$\\sigma'(t_0) \\approx -\\frac{1}{\\pi} - \\frac{2t_0}{\\pi^2} \\approx - \\frac{1}{\\pi}$$\n",
    "\n",
    "$$I(t_0) = \\int_{0}^{t_0} \\frac{\\sigma(s)}{s} ds \\approx  \\int_{0}^{t_0} \\frac{-\\frac{s}{\\pi} - \\left( \\frac{s}{\\pi} \\right)^2}{s} ds =  \\int_{0}^{t_0} -\\frac{1}{\\pi} - \\frac{s}{\\pi^2} ds = - \\frac{t_0}{\\pi} - \\frac{t^2_0}{2 \\pi^2} $$\n",
    "\n"
   ]
  },
  {
   "cell_type": "code",
   "execution_count": 2,
   "metadata": {},
   "outputs": [],
   "source": [
    "def f(t, y):\n",
    "    σ = y[0]\n",
    "    dσ = y[1]\n",
    "    dy0 = dσ\n",
    "    dy1 = -2/t * np.sqrt(max((σ-t*dσ)*(t*dσ - σ + (dσ)**2), 0))\n",
    "    dy2 = σ/t\n",
    "    return np.array([dy0, dy1, dy2])"
   ]
  },
  {
   "cell_type": "code",
   "execution_count": 3,
   "metadata": {},
   "outputs": [],
   "source": [
    "t0 = 1e-15\n",
    "tf = 9"
   ]
  },
  {
   "cell_type": "markdown",
   "metadata": {},
   "source": [
    "Define the boundary conditions"
   ]
  },
  {
   "cell_type": "code",
   "execution_count": 4,
   "metadata": {},
   "outputs": [],
   "source": [
    "y0_0 = -t0/np.pi-(t0/np.pi)**2\n",
    "y0_1 = -1/np.pi-2*t0/np.pi\n",
    "y0_2 = -t0/np.pi-t0**2/(2*pi**2)\n",
    "y0 = np.array([y0_0, y0_1, y0_2])"
   ]
  },
  {
   "cell_type": "code",
   "execution_count": 5,
   "metadata": {},
   "outputs": [],
   "source": [
    "sol = solve_ivp(f, (t0, tf) ,y0, max_step=.001)\n",
    "σ = sol.y[0][100:]\n",
    "dσ = sol.y[1][100:]\n",
    "I = sol.y[2][100:]\n",
    "t = sol.t[100:]\n",
    "x = t/np.pi"
   ]
  },
  {
   "cell_type": "code",
   "execution_count": 6,
   "metadata": {
    "scrolled": true
   },
   "outputs": [],
   "source": [
    "E = np.exp(I)\n",
    "p = E/x**2 * (σ**2 + x*np.pi*dσ - σ)"
   ]
  },
  {
   "cell_type": "code",
   "execution_count": 7,
   "metadata": {
    "scrolled": true
   },
   "outputs": [
    {
     "data": {
      "image/png": "[encoded data removed]",
      "text/plain": [
       "<Figure size 432x288 with 1 Axes>"
      ]
     },
     "metadata": {},
     "output_type": "display_data"
    }
   ],
   "source": [
    "plt.plot(x[100:], p[100:]);"
   ]
  },
  {
   "cell_type": "markdown",
   "metadata": {},
   "source": [
    "We can plot the density with Wigner's Surmise and see that Wigner's approximation is amazingly accurate, as expected from the experiments from last section."
   ]
  },
  {
   "cell_type": "code",
   "execution_count": 8,
   "metadata": {
    "tags": [
     "hide_input"
    ]
   },
   "outputs": [],
   "source": [
    "gamma = lambda x: scipy.special.gamma(x)\n",
    "def wigner_surmise(s, beta):\n",
    "    a = 2*(gamma((beta+2)/2))**(beta+1)/(gamma((beta+1)/2))**(beta + 2)\n",
    "    b = (gamma((beta+2)/2))**2/(gamma((beta+1)/2))**2\n",
    "    return a * (s**beta) * np.exp(-b*s**2)"
   ]
  },
  {
   "cell_type": "code",
   "execution_count": 9,
   "metadata": {},
   "outputs": [
    {
     "data": {
      "image/png": "[encoded data removed]",
      "text/plain": [
       "<Figure size 432x288 with 1 Axes>"
      ]
     },
     "metadata": {},
     "output_type": "display_data"
    }
   ],
   "source": [
    "plt.plot(x[100:], p[100:])\n",
    "wigner_curve = wigner_surmise(x, 2)\n",
    "plt.plot(x, wigner_curve);"
   ]
  },
  {
   "cell_type": "markdown",
   "metadata": {},
   "source": [
    "# Sampling from GUEs"
   ]
  },
  {
   "cell_type": "markdown",
   "metadata": {},
   "source": [
    "We will now emperically verify our density curve. However, we will unfold the spectra using the procedure suggested by Andrew Odlyzko in [*The 10^20-th zero of the Riemann zeta function and 175 million of its neighbors*](https://github.com/robertsweeneyblanco/Random_Matrix_Theory/blob/master/content/Eigenvalues/Zeta_Function/odlyzko92.pdf). Suppose you have $n$ eigenvalues $\\{ \\lambda_i \\}_{i=1}^n$, then the level spacings $\\{ \\mu_i \\}_{i=1}^{n-1}$ can be normalized to have mean 1 by scaling the differences like so\n",
    "\n",
    "$$\\mu_i = (\\lambda_{i+1} - \\lambda_i)\\frac{\\sqrt{4n - \\lambda_i^2}}{2 \\pi}$$"
   ]
  },
  {
   "cell_type": "code",
   "execution_count": 10,
   "metadata": {},
   "outputs": [],
   "source": [
    "def normalize(λ1, λ2):\n",
    "    # λ1 > λ2\n",
    "    return (λ1 - λ2)*(np.sqrt(4*N-λ2**2)/(2*np.pi))"
   ]
  },
  {
   "cell_type": "markdown",
   "metadata": {},
   "source": [
    "Below we plot the level spacings for $200 \\times 200$ GUE and compare the emperical distribution with the density curve found earlier."
   ]
  },
  {
   "cell_type": "code",
   "execution_count": 11,
   "metadata": {},
   "outputs": [],
   "source": [
    "trials = 5000\n",
    "Δs = []\n",
    "N = 200\n",
    "for _ in range(trials):\n",
    "    A = RM.Generate_GUE(N) \n",
    "    λs, V = np.linalg.eigh(A)\n",
    "    λs.sort()\n",
    "    λs_middle = λs[round(N/4):round(3*N/4)]\n",
    "    eig_spaces = [normalize(λs_middle[i+1], λs_middle[i]) for i in range(len(λs_middle)-1)]\n",
    "    Δs.extend(eig_spaces)"
   ]
  },
  {
   "cell_type": "code",
   "execution_count": 12,
   "metadata": {},
   "outputs": [
    {
     "data": {
      "image/png": "[encoded data removed]",
      "text/plain": [
       "<Figure size 432x288 with 1 Axes>"
      ]
     },
     "metadata": {},
     "output_type": "display_data"
    }
   ],
   "source": [
    "plt.ylabel(\"Density\")\n",
    "plt.xlabel(\"$\\lambda - \\lambda'$\")\n",
    "plt.hist(Δs, bins=50, density=True)\n",
    "plt.plot(x[100:], p[100:]);"
   ]
  },
  {
   "cell_type": "markdown",
   "metadata": {},
   "source": [
    "# Distribution of Spacings of $\\zeta$"
   ]
  },
  {
   "cell_type": "markdown",
   "metadata": {},
   "source": [
    "The Riemann zeta function is defined as the analytic continuation of the series\n",
    "\n",
    "$$\\zeta(s) = \\sum_{n=1}^{\\infty} \\frac{1}{n^s} $$\n",
    "\n",
    "where $s$ is a complex variable. The function satifies the following functional equation\n",
    "\n",
    "$$\\zeta(s) = 2^s \\pi^{s-1} \\sin(\\frac{s \\pi}{2}) \\Gamma(1-s) \\zeta(1-s) $$\n",
    "\n",
    "Note that if $s$ is a negative, even integer then $\\sin(\\frac{s \\pi}{2}) = 0 \\Rightarrow \\zeta(s) = 0$. The same cannot be said about positive even integers because of the poles of the Gamma function. Negative, even integers are known as the trivial zeros of the Riemann zeta function. The Riemann hypothesis states that the non-trivial zeros of the zeta function have real part $\\frac{1}{2}$. This hypothesis remain unproven today and is one of the most famous open problems in mathematics. Andrew Odlyzko computed hundreds of examples of non-trivial zeros on his website, which we will use in this section. It turns out that there is a connection between Random Matrix theory and the non-trivial zeros of the Riemann zeta function. The differences of normalized imaginary non-trivial zeros of the Riemann zeta function follows the same distribution as the normalized level spacings of eigenvalues of GUE matrices. In particular, if $s_0$ is a non-trivial zero and $\\Im(s_0) = \\gamma$, we can normalize these gammas to have mean 1 with the following scaling\n",
    "\n",
    "$$\\tilde{\\gamma} = \\gamma \\frac{1}{2 \\pi} \\log(\\frac{\\gamma}{2 \\pi})$$\n",
    "\n",
    "Below we import Odlyzko's data, normalize it, compute the differences, and plot it against the density curve found earlier in the section. "
   ]
  },
  {
   "cell_type": "code",
   "execution_count": 13,
   "metadata": {},
   "outputs": [],
   "source": [
    "def get_diffs(γs):\n",
    "    γ_bar = [γ * (γ/(2*PI)).ln()/(2*PI) for γ in γs]\n",
    "    γ_diffs = np.diff(γ_bar)\n",
    "    γ_diffs_fl = [float(γ) for γ in γ_diffs]\n",
    "    return γ_diffs_fl"
   ]
  },
  {
   "cell_type": "code",
   "execution_count": 14,
   "metadata": {},
   "outputs": [],
   "source": [
    "data1 = np.genfromtxt('zeros_group1.csv', delimiter=',', dtype=str)\n",
    "γ1 = [Decimal(num) for num in data1]\n",
    "γ1_bar = get_diffs(γ1)"
   ]
  },
  {
   "cell_type": "code",
   "execution_count": 15,
   "metadata": {},
   "outputs": [],
   "source": [
    "data2 = np.genfromtxt('zeros_group2.csv', delimiter=',', dtype=str)\n",
    "γ2 = [Decimal(num) for num in data2]\n",
    "γ2_bar = get_diffs(γ2)"
   ]
  },
  {
   "cell_type": "code",
   "execution_count": 16,
   "metadata": {},
   "outputs": [],
   "source": [
    "data3 = np.genfromtxt('zeros_group3.csv', delimiter=',', dtype=str)\n",
    "γ3 = [Decimal(num) for num in data3]\n",
    "γ3_bar = get_diffs(γ3)"
   ]
  },
  {
   "cell_type": "code",
   "execution_count": 17,
   "metadata": {},
   "outputs": [],
   "source": [
    "Γ = γ1_bar.copy()\n",
    "Γ.extend(γ2_bar)\n",
    "Γ.extend(γ3_bar)"
   ]
  },
  {
   "cell_type": "code",
   "execution_count": 18,
   "metadata": {
    "scrolled": false
   },
   "outputs": [
    {
     "data": {
      "image/png": "[encoded data removed]",
      "text/plain": [
       "<Figure size 432x288 with 1 Axes>"
      ]
     },
     "metadata": {},
     "output_type": "display_data"
    }
   ],
   "source": [
    "plt.title(\"Spacings for the Zeros of $\\zeta$\")\n",
    "plt.ylabel(\"density\")\n",
    "plt.xlabel(\"Spacing\")\n",
    "plt.hist(Γ, bins=50, density=True)\n",
    "plt.plot(x[100:], p[100:]);"
   ]
  }
 ],
 "metadata": {
  "kernelspec": {
   "display_name": "Python 3",
   "language": "python",
   "name": "python3"
  },
  "language_info": {
   "codemirror_mode": {
    "name": "ipython",
    "version": 3
   },
   "file_extension": ".py",
   "mimetype": "text/x-python",
   "name": "python",
   "nbconvert_exporter": "python",
   "pygments_lexer": "ipython3",
   "version": "3.8.1"
  }
 },
 "nbformat": 4,
 "nbformat_minor": 2
}
