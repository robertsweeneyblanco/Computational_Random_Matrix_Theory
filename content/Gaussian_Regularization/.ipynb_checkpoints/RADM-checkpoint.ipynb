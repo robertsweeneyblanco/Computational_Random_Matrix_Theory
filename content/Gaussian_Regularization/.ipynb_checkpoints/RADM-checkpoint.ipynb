{
 "cells": [
  {
   "cell_type": "code",
   "execution_count": 1,
   "metadata": {
    "scrolled": true,
    "tags": [
     "hide_input"
    ]
   },
   "outputs": [],
   "source": [
    "import numpy as np\n",
    "import pandas as pd\n",
    "from scipy.linalg import sqrtm\n",
    "import random\n",
    "\n",
    "import sys\n",
    "sys.path.append('../')\n",
    "import RandomMatrix as RM\n",
    "\n",
    "np.random.seed(140)"
   ]
  },
  {
   "cell_type": "markdown",
   "metadata": {},
   "source": [
    "E. Brian Davies' paper *Approximate Diagonalization* proposes an algorithm for improved numerical stability for diagonlization computations. The Randomized Appromiate Diagonalization Method (RADM) can be used to compute an approximate diagonalization for matricies with large eigenvector condition numbers. \n",
    "\n",
    "Suppose $A$ can be diagonlized as $VDV^{-1}$ where $V$ has a large condition number. As we have seen before, working with matrices with small condition numbers is desirable when working in a finite arithmetic enviroment (like computers). RADM suggests introducing a tiny, random perturbation to $A$ before diagonlizing in order to decrease the eigenvector condition number. So instead of diagonlizing $A$, we diagonlize $A+ \\delta E$ where $E$ is a gaussian matrix with iid standard normals in its entries and $\\delta$ is some small positive number. In this\n",
    "\n",
    "We will demonstrate the effectiveness of RADM by recreating some of the emperical results from Daveis' paper. Unlike Daveis, however, our perturbation will come from a Ginibre matrix. We will begin by running Daveis' experiment of finding a value of $\\delta$ for a certain class of matrices."
   ]
  },
  {
   "cell_type": "markdown",
   "metadata": {},
   "source": [
    "# Measuring Accuracy"
   ]
  },
  {
   "cell_type": "markdown",
   "metadata": {},
   "source": [
    "Daveis proposed the following formula for measuring the accuracy of an approximate diagonalization of $A$ by diagonalizing $A+E=VDV^{-1}$\n",
    "\n",
    "$$\\sigma(A,V,E,\\epsilon) = \\kappa(V) \\epsilon + ||E||$$\n",
    "\n",
    "where $\\epsilon$ is the constant degree of accuracy."
   ]
  },
  {
   "cell_type": "markdown",
   "metadata": {},
   "source": [
    "The $\\kappa(V) \\epsilon$ term accounts for the errors caused by numerical inprecision and $||E||$ accounts for error caused by introducing the perturbation. We implement the function below."
   ]
  },
  {
   "cell_type": "code",
   "execution_count": 2,
   "metadata": {},
   "outputs": [],
   "source": [
    "def sigma(A, V, E, ϵ=1e-16):\n",
    "    return np.linalg.cond(V) * ϵ + np.linalg.norm(E, ord=2)"
   ]
  },
  {
   "cell_type": "markdown",
   "metadata": {},
   "source": [
    "# Finding the optimal $\\delta$"
   ]
  },
  {
   "cell_type": "markdown",
   "metadata": {},
   "source": [
    "Suppose we define $A$ to be a 20 by 20 matrix in the following way\n",
    "\n",
    "$$\n",
    "(A)_{r,s} = \\begin{cases} \n",
    "          \\frac{r}{20} & \\text{if } s=r+1 \\\\\n",
    "          0 & \\text{else}\n",
    "          \\end{cases}\n",
    "$$\n",
    "\n",
    "The matrix is implemented below"
   ]
  },
  {
   "cell_type": "code",
   "execution_count": 3,
   "metadata": {},
   "outputs": [],
   "source": [
    "def A_matrix(r,s):\n",
    "    if s == r+1:\n",
    "        return r/20\n",
    "    return 0\n",
    "A = RM.Generate_Custom(A_matrix, 20, 20)"
   ]
  },
  {
   "cell_type": "markdown",
   "metadata": {},
   "source": [
    "The algorithm dictates that we introduce a perturbation to $A$ of the form $\\delta Z$. Let's try to find the optimal value of $\\delta$ for this matrix (the choice of $\\delta$ that minimizes $\\sigma(A,V,E,\\epsilon)$)."
   ]
  },
  {
   "cell_type": "code",
   "execution_count": 4,
   "metadata": {},
   "outputs": [
    {
     "data": {
      "text/html": [
       "<div>\n",
       "<style scoped>\n",
       "    .dataframe tbody tr th:only-of-type {\n",
       "        vertical-align: middle;\n",
       "    }\n",
       "\n",
       "    .dataframe tbody tr th {\n",
       "        vertical-align: top;\n",
       "    }\n",
       "\n",
       "    .dataframe thead th {\n",
       "        text-align: right;\n",
       "    }\n",
       "</style>\n",
       "<table border=\"1\" class=\"dataframe\">\n",
       "  <thead>\n",
       "    <tr style=\"text-align: right;\">\n",
       "      <th></th>\n",
       "      <th>$\\delta$</th>\n",
       "      <th>$$\\sigma(A,V,E,\\epsilon)$$</th>\n",
       "      <th>$$log_{10}(\\kappa(V))$$</th>\n",
       "    </tr>\n",
       "  </thead>\n",
       "  <tbody>\n",
       "    <tr>\n",
       "      <th>0</th>\n",
       "      <td>1.000000e+00</td>\n",
       "      <td>1.000000e+00</td>\n",
       "      <td>1.260679</td>\n",
       "    </tr>\n",
       "    <tr>\n",
       "      <th>1</th>\n",
       "      <td>1.000000e-01</td>\n",
       "      <td>1.000000e-01</td>\n",
       "      <td>1.813794</td>\n",
       "    </tr>\n",
       "    <tr>\n",
       "      <th>2</th>\n",
       "      <td>1.000000e-02</td>\n",
       "      <td>1.000000e-02</td>\n",
       "      <td>2.825438</td>\n",
       "    </tr>\n",
       "    <tr>\n",
       "      <th>3</th>\n",
       "      <td>1.000000e-03</td>\n",
       "      <td>1.000000e-03</td>\n",
       "      <td>3.739809</td>\n",
       "    </tr>\n",
       "    <tr>\n",
       "      <th>4</th>\n",
       "      <td>1.000000e-04</td>\n",
       "      <td>1.000000e-04</td>\n",
       "      <td>4.554702</td>\n",
       "    </tr>\n",
       "    <tr>\n",
       "      <th>5</th>\n",
       "      <td>1.000000e-05</td>\n",
       "      <td>1.000003e-05</td>\n",
       "      <td>5.440051</td>\n",
       "    </tr>\n",
       "    <tr>\n",
       "      <th>6</th>\n",
       "      <td>1.000000e-06</td>\n",
       "      <td>1.000250e-06</td>\n",
       "      <td>6.397352</td>\n",
       "    </tr>\n",
       "    <tr>\n",
       "      <th>7</th>\n",
       "      <td>1.000000e-07</td>\n",
       "      <td>1.023161e-07</td>\n",
       "      <td>7.364753</td>\n",
       "    </tr>\n",
       "    <tr>\n",
       "      <th>8</th>\n",
       "      <td>1.000000e-08</td>\n",
       "      <td>3.041050e-08</td>\n",
       "      <td>8.309854</td>\n",
       "    </tr>\n",
       "    <tr>\n",
       "      <th>9</th>\n",
       "      <td>1.000000e-09</td>\n",
       "      <td>2.313358e-07</td>\n",
       "      <td>9.362361</td>\n",
       "    </tr>\n",
       "    <tr>\n",
       "      <th>10</th>\n",
       "      <td>1.000000e-10</td>\n",
       "      <td>1.521347e-06</td>\n",
       "      <td>10.182200</td>\n",
       "    </tr>\n",
       "    <tr>\n",
       "      <th>11</th>\n",
       "      <td>1.000000e-11</td>\n",
       "      <td>1.163115e-05</td>\n",
       "      <td>11.065622</td>\n",
       "    </tr>\n",
       "    <tr>\n",
       "      <th>12</th>\n",
       "      <td>1.000000e-12</td>\n",
       "      <td>9.933064e-05</td>\n",
       "      <td>11.997083</td>\n",
       "    </tr>\n",
       "    <tr>\n",
       "      <th>13</th>\n",
       "      <td>1.000000e-13</td>\n",
       "      <td>6.349410e-04</td>\n",
       "      <td>12.802733</td>\n",
       "    </tr>\n",
       "    <tr>\n",
       "      <th>14</th>\n",
       "      <td>1.000000e-14</td>\n",
       "      <td>4.449525e-03</td>\n",
       "      <td>13.648314</td>\n",
       "    </tr>\n",
       "    <tr>\n",
       "      <th>15</th>\n",
       "      <td>1.000000e-15</td>\n",
       "      <td>3.306881e-02</td>\n",
       "      <td>14.519419</td>\n",
       "    </tr>\n",
       "    <tr>\n",
       "      <th>16</th>\n",
       "      <td>0.000000e+00</td>\n",
       "      <td>inf</td>\n",
       "      <td>inf</td>\n",
       "    </tr>\n",
       "  </tbody>\n",
       "</table>\n",
       "</div>"
      ],
      "text/plain": [
       "        $\\delta$  $$\\sigma(A,V,E,\\epsilon)$$  $$log_{10}(\\kappa(V))$$\n",
       "0   1.000000e+00                1.000000e+00                 1.260679\n",
       "1   1.000000e-01                1.000000e-01                 1.813794\n",
       "2   1.000000e-02                1.000000e-02                 2.825438\n",
       "3   1.000000e-03                1.000000e-03                 3.739809\n",
       "4   1.000000e-04                1.000000e-04                 4.554702\n",
       "5   1.000000e-05                1.000003e-05                 5.440051\n",
       "6   1.000000e-06                1.000250e-06                 6.397352\n",
       "7   1.000000e-07                1.023161e-07                 7.364753\n",
       "8   1.000000e-08                3.041050e-08                 8.309854\n",
       "9   1.000000e-09                2.313358e-07                 9.362361\n",
       "10  1.000000e-10                1.521347e-06                10.182200\n",
       "11  1.000000e-11                1.163115e-05                11.065622\n",
       "12  1.000000e-12                9.933064e-05                11.997083\n",
       "13  1.000000e-13                6.349410e-04                12.802733\n",
       "14  1.000000e-14                4.449525e-03                13.648314\n",
       "15  1.000000e-15                3.306881e-02                14.519419\n",
       "16  0.000000e+00                         inf                      inf"
      ]
     },
     "execution_count": 4,
     "metadata": {},
     "output_type": "execute_result"
    }
   ],
   "source": [
    "Z = RM.Generate_Ginibre(20)\n",
    "sigma_vals = []\n",
    "log_condition = []\n",
    "δs = np.append(10.0**(-np.arange(16)), 0)\n",
    "for δ in δs:\n",
    "    E = δ * Z/np.linalg.norm(Z, ord=2)\n",
    "    eigenvalues, V = np.linalg.eig(A+E)\n",
    "    sigma_vals.append(sigma(A,V,E))\n",
    "    log_condition.append(np.log10(np.linalg.cond(V)))\n",
    "pd.DataFrame({\"$\\delta$\": δs, \"$$\\sigma(A,V,E,\\epsilon)$$\": sigma_vals, \"$$log_{10}(\\kappa(V))$$\": log_condition})"
   ]
  },
  {
   "cell_type": "markdown",
   "metadata": {},
   "source": [
    "The optimal value of $\\delta$ is $10^{-8}$. Our results are nearly identical to Daveis' paper, except we have chosen to use a Ginibre matrix for the perturbation."
   ]
  },
  {
   "cell_type": "markdown",
   "metadata": {},
   "source": [
    "# Square Root of Matrices "
   ]
  },
  {
   "cell_type": "markdown",
   "metadata": {},
   "source": [
    "The square root of a matrix $A=VDV^{-1}$ can be defined as follows\n",
    "\n",
    "$$\\sqrt{A} = V\\sqrt{D}V^{-1}$$\n",
    "\n",
    "Where $\\sqrt{D}$ is the diagonal matrix $D$ but with all its values square rooted. This resembles a square root because $(\\sqrt{A})^2 = A$ as shown in the next line\n",
    "\n",
    "$$ (\\sqrt{A})^2 = V\\sqrt{D}V^{-1}V\\sqrt{D}V^{-1}= VDV^{-1} = A$$\n",
    "\n",
    "So square rooting a matrix is helpful when you have a matrix $A$ and you want to find a matrix $B$ such that $B^2=A$. Let us try to find the square root of $A$ (as defined in the earlier section) in python"
   ]
  },
  {
   "cell_type": "code",
   "execution_count": 5,
   "metadata": {},
   "outputs": [
    {
     "name": "stdout",
     "output_type": "stream",
     "text": [
      "Failed to find a square root.\n"
     ]
    }
   ],
   "source": [
    "sqrtm(A);"
   ]
  },
  {
   "cell_type": "markdown",
   "metadata": {},
   "source": [
    "Perhaps we will have better luck using the RADM algorithm with $\\delta=10^{-8}$. "
   ]
  },
  {
   "cell_type": "code",
   "execution_count": 6,
   "metadata": {},
   "outputs": [],
   "source": [
    "δ = 10**(-8) \n",
    "Z = RM.Generate_Ginibre(20)\n",
    "E = δ * Z/np.linalg.norm(Z, ord=2)\n",
    "eigenvalues, V = np.linalg.eig(A+E)\n",
    "D_sqrt = np.sqrt(np.diag(eigenvalues))\n",
    "A_sqrt = V @ D_sqrt @ np.linalg.inv(V)"
   ]
  },
  {
   "cell_type": "markdown",
   "metadata": {},
   "source": [
    "Seems like our code ran successfully, but how do we know if it is any good? Lets try to measure $||A - \\left( \\sqrt{A} \\right)^2||$"
   ]
  },
  {
   "cell_type": "code",
   "execution_count": 7,
   "metadata": {},
   "outputs": [
    {
     "data": {
      "text/plain": [
       "4.1103251651171263e-07"
      ]
     },
     "execution_count": 7,
     "metadata": {},
     "output_type": "execute_result"
    }
   ],
   "source": [
    "np.linalg.norm(A-np.linalg.matrix_power(A_sqrt, 2), ord=2)"
   ]
  },
  {
   "cell_type": "markdown",
   "metadata": {},
   "source": [
    "Seeing that this difference is extremely small, RADM was very effective in finding an approximate square root for our matrix."
   ]
  },
  {
   "cell_type": "markdown",
   "metadata": {},
   "source": [
    "# Comparing Results"
   ]
  },
  {
   "cell_type": "markdown",
   "metadata": {},
   "source": [
    "So is using RADM always the best approach? Not necessarily. Lets compare the performance of Scipy's sqrtm function and the RADM algorithm. We will make the following adjustment to the definition of $A$, call it ${}_{c}A$, so that the sqrtm function will be able to find an approximate square root.\n",
    "\n",
    "$$\n",
    "{}_{c}A_{r,s} = \\begin{cases} \n",
    "          \\frac{r}{20} & \\text{if } s=r+1 \\\\\n",
    "          c & \\text{if } s=r \\\\\n",
    "          0 & \\text{else}\n",
    "          \\end{cases}\n",
    "$$\n",
    "\n",
    "<br>"
   ]
  },
  {
   "cell_type": "code",
   "execution_count": 8,
   "metadata": {},
   "outputs": [],
   "source": [
    "def c_A_matrix(r,s,n,c):\n",
    "    if s == r+1:\n",
    "        return r/n\n",
    "    if s == r:\n",
    "        return c\n",
    "    return 0"
   ]
  },
  {
   "cell_type": "markdown",
   "metadata": {},
   "source": [
    "We will try to compute the square root of $_{c}A$ directly using Scipy and call that solution $_{c}S$. Then we will take the square root of $_{c}A$ ourselves using the RADM algorithm with $\\delta=10^{-8}$ and call that solution $_{c}R$."
   ]
  },
  {
   "cell_type": "code",
   "execution_count": 9,
   "metadata": {},
   "outputs": [
    {
     "data": {
      "text/html": [
       "<div>\n",
       "<style scoped>\n",
       "    .dataframe tbody tr th:only-of-type {\n",
       "        vertical-align: middle;\n",
       "    }\n",
       "\n",
       "    .dataframe tbody tr th {\n",
       "        vertical-align: top;\n",
       "    }\n",
       "\n",
       "    .dataframe thead th {\n",
       "        text-align: right;\n",
       "    }\n",
       "</style>\n",
       "<table border=\"1\" class=\"dataframe\">\n",
       "  <thead>\n",
       "    <tr style=\"text-align: right;\">\n",
       "      <th></th>\n",
       "      <th>$c$</th>\n",
       "      <th>$$||_{c}R^2 - \\ _{c}A||$$</th>\n",
       "      <th>$$||_{c}S^2 - \\ _{c}A||$$</th>\n",
       "    </tr>\n",
       "  </thead>\n",
       "  <tbody>\n",
       "    <tr>\n",
       "      <th>0</th>\n",
       "      <td>0.80</td>\n",
       "      <td>0.000067</td>\n",
       "      <td>5.851644e-15</td>\n",
       "    </tr>\n",
       "    <tr>\n",
       "      <th>1</th>\n",
       "      <td>0.60</td>\n",
       "      <td>0.000017</td>\n",
       "      <td>5.777242e-15</td>\n",
       "    </tr>\n",
       "    <tr>\n",
       "      <th>2</th>\n",
       "      <td>0.40</td>\n",
       "      <td>0.000096</td>\n",
       "      <td>1.484274e-14</td>\n",
       "    </tr>\n",
       "    <tr>\n",
       "      <th>3</th>\n",
       "      <td>0.30</td>\n",
       "      <td>0.000061</td>\n",
       "      <td>2.408642e-13</td>\n",
       "    </tr>\n",
       "    <tr>\n",
       "      <th>4</th>\n",
       "      <td>0.20</td>\n",
       "      <td>0.000114</td>\n",
       "      <td>3.532053e-11</td>\n",
       "    </tr>\n",
       "    <tr>\n",
       "      <th>5</th>\n",
       "      <td>0.10</td>\n",
       "      <td>0.000799</td>\n",
       "      <td>8.002574e-07</td>\n",
       "    </tr>\n",
       "    <tr>\n",
       "      <th>6</th>\n",
       "      <td>0.05</td>\n",
       "      <td>0.003461</td>\n",
       "      <td>6.703286e-02</td>\n",
       "    </tr>\n",
       "    <tr>\n",
       "      <th>7</th>\n",
       "      <td>0.02</td>\n",
       "      <td>0.237373</td>\n",
       "      <td>3.021511e+06</td>\n",
       "    </tr>\n",
       "    <tr>\n",
       "      <th>8</th>\n",
       "      <td>0.01</td>\n",
       "      <td>1.028855</td>\n",
       "      <td>7.097185e+11</td>\n",
       "    </tr>\n",
       "  </tbody>\n",
       "</table>\n",
       "</div>"
      ],
      "text/plain": [
       "    $c$  $$||_{c}R^2 - \\ _{c}A||$$  $$||_{c}S^2 - \\ _{c}A||$$\n",
       "0  0.80                   0.000067               5.851644e-15\n",
       "1  0.60                   0.000017               5.777242e-15\n",
       "2  0.40                   0.000096               1.484274e-14\n",
       "3  0.30                   0.000061               2.408642e-13\n",
       "4  0.20                   0.000114               3.532053e-11\n",
       "5  0.10                   0.000799               8.002574e-07\n",
       "6  0.05                   0.003461               6.703286e-02\n",
       "7  0.02                   0.237373               3.021511e+06\n",
       "8  0.01                   1.028855               7.097185e+11"
      ]
     },
     "execution_count": 9,
     "metadata": {},
     "output_type": "execute_result"
    }
   ],
   "source": [
    "c_R2_minus_c_A_norm = []\n",
    "c_S2_minus_c_A_norm = []\n",
    "c_vals = np.array([.8, .6, .4, .3,.2,.1, .05, .02, .01])\n",
    "for c in c_vals:\n",
    "    c_A = RM.Generate_Custom(lambda i,j: c_A_matrix(i,j,c,20), 20, 20)\n",
    "    c_S = sqrtm(c_A)\n",
    "    Z = RM.Generate_Ginibre(20)\n",
    "    E = δ * Z/np.linalg.norm(Z, ord=2)\n",
    "    eigenvalues, V = np.linalg.eig(c_A+E)\n",
    "    D_sqrt = np.sqrt(np.diag(eigenvalues))\n",
    "    c_R = V @ D_sqrt @ np.linalg.inv(V)\n",
    "    c_R2_minus_c_A_norm.append(np.linalg.norm(np.linalg.matrix_power(c_R, 2)-c_A, ord=2))\n",
    "    c_S2_minus_c_A_norm.append(np.linalg.norm(np.linalg.matrix_power(c_S, 2)-c_A, ord=2))\n",
    "pd.DataFrame({\"$c$\": c_vals, \n",
    "              \"$$||_{c}R^2 - \\ _{c}A||$$\": c_R2_minus_c_A_norm, \n",
    "              \"$$||_{c}S^2 - \\ _{c}A||$$\": c_S2_minus_c_A_norm})  "
   ]
  },
  {
   "cell_type": "markdown",
   "metadata": {},
   "source": [
    "As we can see, for $c$ values close to 1, Numpy's sqrtm function is much more accurate for computing $\\sqrt{_{}{}_{c}A}$. But as $c$ gets close to 0, the error explodes for sqrtm whereas the error only marginally increases for the RADM algorithm. Why might this be the case? Let's see what happens to the condition number of the matrix of eigenvectors Python uses to diagonlize ${}_{c}A$ as $c$ gets small."
   ]
  },
  {
   "cell_type": "code",
   "execution_count": 10,
   "metadata": {},
   "outputs": [
    {
     "data": {
      "text/html": [
       "<div>\n",
       "<style scoped>\n",
       "    .dataframe tbody tr th:only-of-type {\n",
       "        vertical-align: middle;\n",
       "    }\n",
       "\n",
       "    .dataframe tbody tr th {\n",
       "        vertical-align: top;\n",
       "    }\n",
       "\n",
       "    .dataframe thead th {\n",
       "        text-align: right;\n",
       "    }\n",
       "</style>\n",
       "<table border=\"1\" class=\"dataframe\">\n",
       "  <thead>\n",
       "    <tr style=\"text-align: right;\">\n",
       "      <th></th>\n",
       "      <th>$c$</th>\n",
       "      <th>$$\\log_{10}(\\kappa(S))$$</th>\n",
       "      <th>$$||_{c}R^2 - \\ _{c}A||$$</th>\n",
       "      <th>$$||_{c}S^2 - \\ _{c}A||$$</th>\n",
       "    </tr>\n",
       "  </thead>\n",
       "  <tbody>\n",
       "    <tr>\n",
       "      <th>0</th>\n",
       "      <td>0.80</td>\n",
       "      <td>276.686149</td>\n",
       "      <td>0.000067</td>\n",
       "      <td>5.851644e-15</td>\n",
       "    </tr>\n",
       "    <tr>\n",
       "      <th>1</th>\n",
       "      <td>0.60</td>\n",
       "      <td>278.935046</td>\n",
       "      <td>0.000017</td>\n",
       "      <td>5.777242e-15</td>\n",
       "    </tr>\n",
       "    <tr>\n",
       "      <th>2</th>\n",
       "      <td>0.40</td>\n",
       "      <td>282.104689</td>\n",
       "      <td>0.000096</td>\n",
       "      <td>1.484274e-14</td>\n",
       "    </tr>\n",
       "    <tr>\n",
       "      <th>3</th>\n",
       "      <td>0.30</td>\n",
       "      <td>284.353586</td>\n",
       "      <td>0.000061</td>\n",
       "      <td>2.408642e-13</td>\n",
       "    </tr>\n",
       "    <tr>\n",
       "      <th>4</th>\n",
       "      <td>0.20</td>\n",
       "      <td>287.523229</td>\n",
       "      <td>0.000114</td>\n",
       "      <td>3.532053e-11</td>\n",
       "    </tr>\n",
       "    <tr>\n",
       "      <th>5</th>\n",
       "      <td>0.10</td>\n",
       "      <td>292.941769</td>\n",
       "      <td>0.000799</td>\n",
       "      <td>8.002574e-07</td>\n",
       "    </tr>\n",
       "    <tr>\n",
       "      <th>6</th>\n",
       "      <td>0.05</td>\n",
       "      <td>298.360309</td>\n",
       "      <td>0.003461</td>\n",
       "      <td>6.703286e-02</td>\n",
       "    </tr>\n",
       "    <tr>\n",
       "      <th>7</th>\n",
       "      <td>0.02</td>\n",
       "      <td>305.523232</td>\n",
       "      <td>0.237373</td>\n",
       "      <td>3.021511e+06</td>\n",
       "    </tr>\n",
       "    <tr>\n",
       "      <th>8</th>\n",
       "      <td>0.01</td>\n",
       "      <td>inf</td>\n",
       "      <td>1.028855</td>\n",
       "      <td>7.097185e+11</td>\n",
       "    </tr>\n",
       "  </tbody>\n",
       "</table>\n",
       "</div>"
      ],
      "text/plain": [
       "    $c$  $$\\log_{10}(\\kappa(S))$$  $$||_{c}R^2 - \\ _{c}A||$$  \\\n",
       "0  0.80                276.686149                   0.000067   \n",
       "1  0.60                278.935046                   0.000017   \n",
       "2  0.40                282.104689                   0.000096   \n",
       "3  0.30                284.353586                   0.000061   \n",
       "4  0.20                287.523229                   0.000114   \n",
       "5  0.10                292.941769                   0.000799   \n",
       "6  0.05                298.360309                   0.003461   \n",
       "7  0.02                305.523232                   0.237373   \n",
       "8  0.01                       inf                   1.028855   \n",
       "\n",
       "   $$||_{c}S^2 - \\ _{c}A||$$  \n",
       "0               5.851644e-15  \n",
       "1               5.777242e-15  \n",
       "2               1.484274e-14  \n",
       "3               2.408642e-13  \n",
       "4               3.532053e-11  \n",
       "5               8.002574e-07  \n",
       "6               6.703286e-02  \n",
       "7               3.021511e+06  \n",
       "8               7.097185e+11  "
      ]
     },
     "execution_count": 10,
     "metadata": {},
     "output_type": "execute_result"
    }
   ],
   "source": [
    "condition_numbers = []\n",
    "for c in c_vals:\n",
    "    c_A = np.fromfunction(np.vectorize(lambda i,j: c_A_matrix(i,j,c,20), otypes=[float]), (20,20))\n",
    "    eigenvalues, V = np.linalg.eig(c_A)\n",
    "    condition_numbers.append(np.linalg.cond(V))\n",
    "pd.DataFrame({\"$c$\": c_vals, \n",
    "              \"$$\\log_{10}(\\kappa(S))$$\": np.log10(condition_numbers),\n",
    "              \"$$||_{c}R^2 - \\ _{c}A||$$\": c_R2_minus_c_A_norm, \n",
    "              \"$$||_{c}S^2 - \\ _{c}A||$$\": c_S2_minus_c_A_norm})  "
   ]
  },
  {
   "cell_type": "markdown",
   "metadata": {},
   "source": [
    "As we can see, the RADM algorithm is helpful for matrices with very large eigenvector condition numbers. If the condition number of a matrix is already small, the matrix should be well behaved and produce numerically stable results without needing any perturbation."
   ]
  },
  {
   "cell_type": "markdown",
   "metadata": {},
   "source": [
    "# Regularization Theorem"
   ]
  },
  {
   "cell_type": "markdown",
   "metadata": {},
   "source": [
    "The following theorem was proven by Jess Banks, Archit Kulkarni, Satyaki Mukherjee, and Nikhil Srivastava in their paper [*Gaussian Regularization of the Pseudospectrum and Davies’ Conjecture*](https://arxiv.org/abs/1906.11819)."
   ]
  },
  {
   "cell_type": "markdown",
   "metadata": {},
   "source": [
    "<hr>"
   ]
  },
  {
   "cell_type": "markdown",
   "metadata": {},
   "source": [
    "**Theorem**: Suppose $A \\in \\mathbb{C}^{n \\times n}$ and $\\delta \\in (0,1)$. Then there is a matrix $E \\in \\mathbb{C}^{n \\times n}$ such that $||E|| \\leq \\delta ||A||$ and \n",
    "\n",
    "$$\\kappa_{V}(A+E) \\leq 4n^{3/2} \\left(1+\\frac{1}{\\delta} \\right)$$"
   ]
  },
  {
   "cell_type": "markdown",
   "metadata": {},
   "source": [
    "<br>\n",
    "<hr>"
   ]
  },
  {
   "cell_type": "markdown",
   "metadata": {},
   "source": [
    "This theorem implies that if the eigenvector condition number of a matrix is huge, a small perturbation can dramatically help improve numerical stability."
   ]
  }
 ],
 "metadata": {
  "kernelspec": {
   "display_name": "Python 3",
   "language": "python",
   "name": "python3"
  },
  "language_info": {
   "codemirror_mode": {
    "name": "ipython",
    "version": 3
   },
   "file_extension": ".py",
   "mimetype": "text/x-python",
   "name": "python",
   "nbconvert_exporter": "python",
   "pygments_lexer": "ipython3",
   "version": "3.8.1"
  }
 },
 "nbformat": 4,
 "nbformat_minor": 2
}
